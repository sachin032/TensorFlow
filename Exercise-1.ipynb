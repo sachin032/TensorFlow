{
  "nbformat": 4,
  "nbformat_minor": 0,
  "metadata": {
    "colab": {
      "name": "Tensorflow-MDM",
      "provenance": [],
      "collapsed_sections": [
        "60hBMzpOiCKW",
        "V31nPf4uiI5h",
        "9owgBBGNiRD1",
        "YiJ8kv8SinXC",
        "OrUbJOexWXI2",
        "21Ru5CEBjBVi"
      ],
      "include_colab_link": true
    },
    "kernelspec": {
      "name": "python3",
      "display_name": "Python 3"
    },
    "language_info": {
      "codemirror_mode": {
        "name": "ipython",
        "version": 3
      },
      "file_extension": ".py",
      "mimetype": "text/x-python",
      "name": "python",
      "nbconvert_exporter": "python",
      "pygments_lexer": "ipython3",
      "version": "3.7.4"
    },
    "toc": {
      "base_numbering": 1,
      "nav_menu": {},
      "number_sections": true,
      "sideBar": true,
      "skip_h1_title": false,
      "title_cell": "Table of Contents",
      "title_sidebar": "Contents",
      "toc_cell": false,
      "toc_position": {},
      "toc_section_display": true,
      "toc_window_display": false
    },
    "varInspector": {
      "cols": {
        "lenName": 16,
        "lenType": 16,
        "lenVar": 40
      },
      "kernels_config": {
        "python": {
          "delete_cmd_postfix": "",
          "delete_cmd_prefix": "del ",
          "library": "var_list.py",
          "varRefreshCmd": "print(var_dic_list())"
        },
        "r": {
          "delete_cmd_postfix": ") ",
          "delete_cmd_prefix": "rm(",
          "library": "var_list.r",
          "varRefreshCmd": "cat(var_dic_list()) "
        }
      },
      "types_to_exclude": [
        "module",
        "function",
        "builtin_function_or_method",
        "instance",
        "_Feature"
      ],
      "window_display": false
    },
    "accelerator": "GPU"
  },
  "cells": [
    {
      "cell_type": "markdown",
      "metadata": {
        "id": "view-in-github",
        "colab_type": "text"
      },
      "source": [
        "<a href=\"https://colab.research.google.com/github/sachin032/Tensorflow/blob/master/Exercise-1.ipynb\" target=\"_parent\"><img src=\"https://colab.research.google.com/assets/colab-badge.svg\" alt=\"Open In Colab\"/></a>"
      ]
    },
    {
      "cell_type": "markdown",
      "metadata": {
        "colab_type": "text",
        "id": "1hGUpEBSivzE"
      },
      "source": [
        "# **Download Dependencies**"
      ]
    },
    {
      "cell_type": "code",
      "metadata": {
        "colab_type": "code",
        "id": "t_5md7Pdg8_b",
        "colab": {}
      },
      "source": [
        "try:\n",
        "    !pip install -q tf-nightly-gpu-2.0-preview fuzzywuzzy metaphone whoosh jellyfish\n",
        "except Exception:\n",
        "    pass"
      ],
      "execution_count": 0,
      "outputs": []
    },
    {
      "cell_type": "code",
      "metadata": {
        "id": "0OZ4mP3CKQrz",
        "colab_type": "code",
        "colab": {
          "base_uri": "https://localhost:8080/",
          "height": 34
        },
        "outputId": "6c569109-4c0a-454b-d25d-5ddc3178026b"
      },
      "source": [
        "device_name = tf.test.gpu_device_name()\n",
        "if device_name != '/device:GPU:0':\n",
        "  raise SystemError('GPU Device not Found')\n",
        "print('Found gpu at: {} '.format(device_name))"
      ],
      "execution_count": 127,
      "outputs": [
        {
          "output_type": "stream",
          "text": [
            "Found gpu at: /device:GPU:0 \n"
          ],
          "name": "stdout"
        }
      ]
    },
    {
      "cell_type": "markdown",
      "metadata": {
        "id": "kV3QC_ZEVtlL",
        "colab_type": "text"
      },
      "source": [
        "# **Enviornment information**"
      ]
    },
    {
      "cell_type": "code",
      "metadata": {
        "id": "jxUgE27OVqM6",
        "colab_type": "code",
        "colab": {
          "base_uri": "https://localhost:8080/",
          "height": 1000
        },
        "outputId": "cc84e17c-d762-48d9-9afd-8074122fccc6"
      },
      "source": [
        "!cat /proc/cpuinfo\n",
        "!cat /proc/meminfo"
      ],
      "execution_count": 128,
      "outputs": [
        {
          "output_type": "stream",
          "text": [
            "processor\t: 0\n",
            "vendor_id\t: GenuineIntel\n",
            "cpu family\t: 6\n",
            "model\t\t: 79\n",
            "model name\t: Intel(R) Xeon(R) CPU @ 2.20GHz\n",
            "stepping\t: 0\n",
            "microcode\t: 0x1\n",
            "cpu MHz\t\t: 2200.000\n",
            "cache size\t: 56320 KB\n",
            "physical id\t: 0\n",
            "siblings\t: 2\n",
            "core id\t\t: 0\n",
            "cpu cores\t: 1\n",
            "apicid\t\t: 0\n",
            "initial apicid\t: 0\n",
            "fpu\t\t: yes\n",
            "fpu_exception\t: yes\n",
            "cpuid level\t: 13\n",
            "wp\t\t: yes\n",
            "flags\t\t: fpu vme de pse tsc msr pae mce cx8 apic sep mtrr pge mca cmov pat pse36 clflush mmx fxsr sse sse2 ss ht syscall nx pdpe1gb rdtscp lm constant_tsc rep_good nopl xtopology nonstop_tsc cpuid tsc_known_freq pni pclmulqdq ssse3 fma cx16 pcid sse4_1 sse4_2 x2apic movbe popcnt aes xsave avx f16c rdrand hypervisor lahf_lm abm 3dnowprefetch invpcid_single ssbd ibrs ibpb stibp fsgsbase tsc_adjust bmi1 hle avx2 smep bmi2 erms invpcid rtm rdseed adx smap xsaveopt arat md_clear arch_capabilities\n",
            "bugs\t\t: cpu_meltdown spectre_v1 spectre_v2 spec_store_bypass l1tf mds swapgs\n",
            "bogomips\t: 4400.00\n",
            "clflush size\t: 64\n",
            "cache_alignment\t: 64\n",
            "address sizes\t: 46 bits physical, 48 bits virtual\n",
            "power management:\n",
            "\n",
            "processor\t: 1\n",
            "vendor_id\t: GenuineIntel\n",
            "cpu family\t: 6\n",
            "model\t\t: 79\n",
            "model name\t: Intel(R) Xeon(R) CPU @ 2.20GHz\n",
            "stepping\t: 0\n",
            "microcode\t: 0x1\n",
            "cpu MHz\t\t: 2200.000\n",
            "cache size\t: 56320 KB\n",
            "physical id\t: 0\n",
            "siblings\t: 2\n",
            "core id\t\t: 0\n",
            "cpu cores\t: 1\n",
            "apicid\t\t: 1\n",
            "initial apicid\t: 1\n",
            "fpu\t\t: yes\n",
            "fpu_exception\t: yes\n",
            "cpuid level\t: 13\n",
            "wp\t\t: yes\n",
            "flags\t\t: fpu vme de pse tsc msr pae mce cx8 apic sep mtrr pge mca cmov pat pse36 clflush mmx fxsr sse sse2 ss ht syscall nx pdpe1gb rdtscp lm constant_tsc rep_good nopl xtopology nonstop_tsc cpuid tsc_known_freq pni pclmulqdq ssse3 fma cx16 pcid sse4_1 sse4_2 x2apic movbe popcnt aes xsave avx f16c rdrand hypervisor lahf_lm abm 3dnowprefetch invpcid_single ssbd ibrs ibpb stibp fsgsbase tsc_adjust bmi1 hle avx2 smep bmi2 erms invpcid rtm rdseed adx smap xsaveopt arat md_clear arch_capabilities\n",
            "bugs\t\t: cpu_meltdown spectre_v1 spectre_v2 spec_store_bypass l1tf mds swapgs\n",
            "bogomips\t: 4400.00\n",
            "clflush size\t: 64\n",
            "cache_alignment\t: 64\n",
            "address sizes\t: 46 bits physical, 48 bits virtual\n",
            "power management:\n",
            "\n",
            "MemTotal:       13335188 kB\n",
            "MemFree:         2093960 kB\n",
            "MemAvailable:   11677204 kB\n",
            "Buffers:          189784 kB\n",
            "Cached:          8631276 kB\n",
            "SwapCached:            0 kB\n",
            "Active:          1732724 kB\n",
            "Inactive:        8849780 kB\n",
            "Active(anon):    1036924 kB\n",
            "Inactive(anon):    10568 kB\n",
            "Active(file):     695800 kB\n",
            "Inactive(file):  8839212 kB\n",
            "Unevictable:           0 kB\n",
            "Mlocked:               0 kB\n",
            "SwapTotal:             0 kB\n",
            "SwapFree:              0 kB\n",
            "Dirty:               568 kB\n",
            "Writeback:             0 kB\n",
            "AnonPages:       1761472 kB\n",
            "Mapped:           939372 kB\n",
            "Shmem:             11140 kB\n",
            "Slab:             416328 kB\n",
            "SReclaimable:     373468 kB\n",
            "SUnreclaim:        42860 kB\n",
            "KernelStack:        4048 kB\n",
            "PageTables:        12352 kB\n",
            "NFS_Unstable:          0 kB\n",
            "Bounce:                0 kB\n",
            "WritebackTmp:          0 kB\n",
            "CommitLimit:     6667592 kB\n",
            "Committed_AS:    4510748 kB\n",
            "VmallocTotal:   34359738367 kB\n",
            "VmallocUsed:           0 kB\n",
            "VmallocChunk:          0 kB\n",
            "AnonHugePages:     28672 kB\n",
            "ShmemHugePages:        0 kB\n",
            "ShmemPmdMapped:        0 kB\n",
            "HugePages_Total:       0\n",
            "HugePages_Free:        0\n",
            "HugePages_Rsvd:        0\n",
            "HugePages_Surp:        0\n",
            "Hugepagesize:       2048 kB\n",
            "DirectMap4k:      184308 kB\n",
            "DirectMap2M:     6107136 kB\n",
            "DirectMap1G:     9437184 kB\n"
          ],
          "name": "stdout"
        }
      ]
    },
    {
      "cell_type": "code",
      "metadata": {
        "id": "z06N6J_vV3rF",
        "colab_type": "code",
        "colab": {
          "base_uri": "https://localhost:8080/",
          "height": 476
        },
        "outputId": "000e36f8-a24a-4345-c1ec-6c671e2a6766"
      },
      "source": [
        "from tensorflow.python.client import device_lib\n",
        "device_lib.list_local_devices()"
      ],
      "execution_count": 129,
      "outputs": [
        {
          "output_type": "execute_result",
          "data": {
            "text/plain": [
              "[name: \"/device:CPU:0\"\n",
              " device_type: \"CPU\"\n",
              " memory_limit: 268435456\n",
              " locality {\n",
              " }\n",
              " incarnation: 2535530982271856866, name: \"/device:XLA_CPU:0\"\n",
              " device_type: \"XLA_CPU\"\n",
              " memory_limit: 17179869184\n",
              " locality {\n",
              " }\n",
              " incarnation: 10980504635039496663\n",
              " physical_device_desc: \"device: XLA_CPU device\", name: \"/device:XLA_GPU:0\"\n",
              " device_type: \"XLA_GPU\"\n",
              " memory_limit: 17179869184\n",
              " locality {\n",
              " }\n",
              " incarnation: 5907667903917559005\n",
              " physical_device_desc: \"device: XLA_GPU device\", name: \"/device:GPU:0\"\n",
              " device_type: \"GPU\"\n",
              " memory_limit: 15956161332\n",
              " locality {\n",
              "   bus_id: 1\n",
              "   links {\n",
              "   }\n",
              " }\n",
              " incarnation: 6245373427664763382\n",
              " physical_device_desc: \"device: 0, name: Tesla P100-PCIE-16GB, pci bus id: 0000:00:04.0, compute capability: 6.0\"]"
            ]
          },
          "metadata": {
            "tags": []
          },
          "execution_count": 129
        }
      ]
    },
    {
      "cell_type": "markdown",
      "metadata": {
        "colab_type": "text",
        "id": "60hBMzpOiCKW"
      },
      "source": [
        "# **Data collection**"
      ]
    },
    {
      "cell_type": "code",
      "metadata": {
        "colab_type": "code",
        "id": "2gW8M8vBRdoB",
        "outputId": "ab867ba6-d8b7-4e4f-8b6e-086238c397d6",
        "colab": {
          "resources": {
            "http://localhost:8080/nbextensions/google.colab/files.js": {
              "data": "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",
              "ok": true,
              "headers": [
                [
                  "content-type",
                  "application/javascript"
                ]
              ],
              "status": 200,
              "status_text": ""
            }
          },
          "base_uri": "https://localhost:8080/",
          "height": 0
        }
      },
      "source": [
        "from google.colab import files\n",
        "data =  files.upload()"
      ],
      "execution_count": 131,
      "outputs": [
        {
          "output_type": "display_data",
          "data": {
            "text/html": [
              "\n",
              "     <input type=\"file\" id=\"files-7accb2c5-2c7f-4771-9bba-9baf6fe01cb7\" name=\"files[]\" multiple disabled />\n",
              "     <output id=\"result-7accb2c5-2c7f-4771-9bba-9baf6fe01cb7\">\n",
              "      Upload widget is only available when the cell has been executed in the\n",
              "      current browser session. Please rerun this cell to enable.\n",
              "      </output>\n",
              "      <script src=\"/nbextensions/google.colab/files.js\"></script> "
            ],
            "text/plain": [
              "<IPython.core.display.HTML object>"
            ]
          },
          "metadata": {
            "tags": []
          }
        },
        {
          "output_type": "stream",
          "text": [
            "Saving BigData.csv to BigData (3).csv\n"
          ],
          "name": "stdout"
        }
      ]
    },
    {
      "cell_type": "markdown",
      "metadata": {
        "colab_type": "text",
        "id": "V31nPf4uiI5h"
      },
      "source": [
        "# **Import Dependencies**"
      ]
    },
    {
      "cell_type": "code",
      "metadata": {
        "colab_type": "code",
        "id": "ui_V6U-x_VG5",
        "colab": {}
      },
      "source": [
        "from __future__ import absolute_import, division, print_function, unicode_literals\n",
        "\n",
        "import pandas as pd\n",
        "import numpy as np\n",
        "import matplotlib.pyplot as plt\n",
        "import seaborn as sns\n",
        "\n",
        "import io\n",
        "import pathlib\n",
        "from tensorflow.keras.preprocessing.text import Tokenizer,hashing_trick,one_hot,text_to_word_sequence\n",
        "\n",
        "from jellyfish import jaro_winkler, levenshtein_distance, soundex\n",
        "from whoosh.analysis import StandardAnalyzer\n",
        "from metaphone import doublemetaphone\n",
        "from fuzzywuzzy import fuzz"
      ],
      "execution_count": 0,
      "outputs": []
    },
    {
      "cell_type": "markdown",
      "metadata": {
        "colab_type": "text",
        "id": "YiJ8kv8SinXC"
      },
      "source": [
        "# **Custom Functions**"
      ]
    },
    {
      "cell_type": "code",
      "metadata": {
        "colab_type": "code",
        "id": "QtX1qFZ3Wkhr",
        "colab": {}
      },
      "source": [
        "def tokenize(text):\n",
        "    analyzer = StandardAnalyzer()\n",
        "    return [t.text for t in analyzer(text)]\n",
        "\n",
        "\n",
        "def overlap(A, B):\n",
        "    try:\n",
        "        if A is None or B is None or len(A) == 0 or len(B) == 0:\n",
        "            return 0.0\n",
        "        setA = tokenize(A)\n",
        "        setB = tokenize(B)\n",
        "        num_intersection = setA.intersection(setB)\n",
        "        min_len = len(setA)\n",
        "        if (min_len > len(setB)):\n",
        "            min_len = len(setB)\n",
        "        return float(intersection) / min_len\n",
        "    except:\n",
        "        pass\n",
        "\n",
        "\n",
        "def jaccard(A, B):\n",
        "    if A is None or B is None or len(A) == 0 or len(B) == 0:\n",
        "        return 0.0\n",
        "    setA = tokenize(A)\n",
        "    setB = tokenize(B)\n",
        "    num_intersection = setA.intersection(setB)\n",
        "    return float(intersection) / (len(setA) + len(setB) - intersection)\n",
        "\n",
        "\n",
        "def overlap_levenshtein(A, B):\n",
        "    try:\n",
        "        if A is None or B is None or len(A) == 0 or len(B) == 0:\n",
        "            return 0.0\n",
        "        setA = set(tokenize(A))\n",
        "        setB = set(tokenize(B))\n",
        "        num_intersection = len(setA.intersection(setB))\n",
        "        max_dist = 0\n",
        "        for wordA in setA:\n",
        "            max_dist = 0\n",
        "            for wordB in setB:\n",
        "                if wordA not in list(\n",
        "                        setA.intersection(setB)) and wordB not in list(\n",
        "                            setA.intersection(setB)):\n",
        "                    dist = levenshtein_distance_metric(wordA, wordB)\n",
        "                    if dist > max_dist and dist > 0.75:\n",
        "                        max_dist = dist\n",
        "            num_intersection = num_intersection + max_dist\n",
        "        min_len = len(setA)\n",
        "        if (min_len > len(setB)):\n",
        "            min_len = len(setB)\n",
        "        if min_len == 0:\n",
        "            return 0.0\n",
        "        return float(num_intersection) / min_len\n",
        "    except:\n",
        "        pass\n",
        "\n",
        "\n",
        "def jaccard_levenshtein(A, B):\n",
        "    if A is None or B is None or len(A) == 0 or len(B) == 0:\n",
        "        return 0.0\n",
        "    setA = tokenize(A)\n",
        "    setB = tokenize(B)\n",
        "    num_intersection = len(setA.intersection(setB))\n",
        "    for wordA in setA:\n",
        "        max_dist = 0\n",
        "        for wordB in setB:\n",
        "            if wordB not in setA.intersection(setB):\n",
        "                dist = levenshtein_distance_metric(wordA, wordB)\n",
        "                if dist > max_dist and max_dist > 0.75:\n",
        "                    max_dist = dist\n",
        "            num_intersection = num_intersection + max_dist\n",
        "    return float(num_intersection) / (len(setA) + len(setB) - num_intersection)\n",
        "\n",
        "\n",
        "def levenshtein_distance_metric(A, B):\n",
        "    try:\n",
        "        if A is None or B is None or len(A) == 0 or len(B) == 0:\n",
        "            return 0.0\n",
        "        max_len = len(A)\n",
        "        if max_len < len(B):\n",
        "            max_len = len(B)\n",
        "        return 1 - float(levenshtein_distance(A, B)) / max_len\n",
        "    except:\n",
        "        pass\n",
        "\n",
        "\n",
        "def jaro_winkler_metric(A, B):\n",
        "    if A is None or B is None or len(A) == 0 or len(B) == 0:\n",
        "        return 0.0\n",
        "\n",
        "    return float(jaro_winkler(A.lower(), B.lower()))\n",
        "\n",
        "\n",
        "def exact_metric(A, B):\n",
        "    if A is None or B is None:\n",
        "        return 0.0\n",
        "    if A == B:\n",
        "        return 0.25\n",
        "    else:\n",
        "        return 0.0\n",
        "\n",
        "\n",
        "def overlap_levenshtein(A, B):\n",
        "    try:\n",
        "        if A is None or B is None or len(A) == 0 or len(B) == 0:\n",
        "            return 0.0\n",
        "        setA = set(tokenize(A))\n",
        "        setB = set(tokenize(B))\n",
        "        num_intersection = len(setA.intersection(setB))\n",
        "        intersected_word = list(setA.intersection(setB))\n",
        "        max_dist = 0\n",
        "        for wordA in setA:\n",
        "            max_dist = 0\n",
        "            for wordB in setB:\n",
        "                if wordA not in intersected_word and wordB not in intersected_word:\n",
        "                    dist = levenshtein_distance_metric(wordA, wordB)\n",
        "                    if dist > max_dist and dist > 0.75:\n",
        "                        max_dist = dist\n",
        "            num_intersection = num_intersection + max_dist\n",
        "        min_len = len(setA)\n",
        "        if (min_len > len(setB)):\n",
        "            min_len = len(setB)\n",
        "        if min_len == 0:\n",
        "            return 0.0\n",
        "        return float(num_intersection) / min_len\n",
        "    except Exception:\n",
        "        pass\n",
        "\n",
        "\n",
        "def soundex_metric(A, B):\n",
        "    try:\n",
        "        if A is None or B is None or A is \"\" or B is \"\" or len(A) == 0 or len(\n",
        "                B) == 0:\n",
        "            return 0.0\n",
        "\n",
        "        setA = tokenize(A)\n",
        "        setB = tokenize(B)\n",
        "        soundexA = set()\n",
        "        soundexB = set()\n",
        "        for wordA in setA:\n",
        "            soundexA.add(soundex(wordA))\n",
        "\n",
        "        for wordB in setB:\n",
        "            soundexB.add(soundex(wordB))\n",
        "\n",
        "        intersection = 0\n",
        "        for wordA in soundexA:\n",
        "            if wordA in soundexB:\n",
        "                intersection = intersection + 1\n",
        "\n",
        "        min_len = len(soundexA)\n",
        "        if min_len > len(soundexB):\n",
        "            min_len = len(soundexB)\n",
        "        if min_len == 0.0:\n",
        "            return 0.0\n",
        "\n",
        "        return float(intersection) / (min_len)\n",
        "    except:\n",
        "        pass\n",
        "\n",
        "\n",
        "def swapped_attribute(fir, sec, pair_of_header, func, header_index):\n",
        "    combinations = [(0, 0), (0, 1), (1, 0), (1, 1)]\n",
        "    metric_values = list()\n",
        "    for each_combination in combinations:\n",
        "        metric_values.append(\n",
        "            func(fir[header_index[pair_of_header[each_combination[0]]]],\n",
        "                 sec[header_index[pair_of_header[each_combination[1]]]]))\n",
        "    swp_1 = metric_values[0] + metric_values[3]\n",
        "    swp_2 = metric_values[1] + metric_values[2]\n",
        "    if swp_1 > swp_2:\n",
        "        return metric_values[0], metric_values[3]\n",
        "    else:\n",
        "        return metric_values[1], metric_values[2]\n",
        "\n",
        "\n"
      ],
      "execution_count": 0,
      "outputs": []
    },
    {
      "cell_type": "markdown",
      "metadata": {
        "id": "_0FEKcjA5v7m",
        "colab_type": "text"
      },
      "source": [
        "# **Feature Engineering**"
      ]
    },
    {
      "cell_type": "code",
      "metadata": {
        "id": "08r-EW-85ti7",
        "colab_type": "code",
        "colab": {}
      },
      "source": [
        "def applyAlgorithms(dataframe, algorithms, column_list):\n",
        "    counter = 0\n",
        "    column_length = len(column_list)\n",
        "    for key, values_list in algorithms.items():\n",
        "        values_list.sort()\n",
        "        if key == LEVENSHTEIN:\n",
        "            for value in values_list:\n",
        "                column_name_list = [\n",
        "                    column_name for column_name in column_list\n",
        "                    if value in column_name\n",
        "                ]\n",
        "                col_name = value + \"_\" + str(column_length + counter)\n",
        "                df[col_name] = df.apply(\n",
        "                    lambda row: levenshtein_distance_metric(\n",
        "                        row['%s' % column_name_list[0]], row[\n",
        "                            '%s' % column_name_list[1]]),\n",
        "                    axis=1)\n",
        "                # dataframe = dataframe.withColumn(\"feature_\"+str(column_length+counter), apply_levenshtein(column_name_list[0], column_name_list[1]))\n",
        "                counter = counter + 1\n",
        "\n",
        "        elif key == SOUNDEX:\n",
        "            for value in values_list:\n",
        "                column_name_list = [\n",
        "                    column_name for column_name in column_list\n",
        "                    if value in column_name\n",
        "                ]\n",
        "                col_name = value + \"_\" + str(column_length + counter)\n",
        "                df[col_name] = df.apply(\n",
        "                    lambda row: soundex_metric(row['%s' % column_name_list[\n",
        "                        0]], row['%s' % column_name_list[1]]),\n",
        "                    axis=1)\n",
        "                # dataframe = dataframe.withColumn(\"feature_\"+str(column_length+counter), apply_soundex(column_name_list[0], column_name_list[1]))\n",
        "                counter = counter + 1\n",
        "\n",
        "        elif key == OVERLAP:\n",
        "            for value in values_list:\n",
        "                column_name_list = [\n",
        "                    column_name for column_name in column_list\n",
        "                    if value in column_name\n",
        "                ]\n",
        "                col_name = value + \"_\" + str(column_length + counter)\n",
        "                df[col_name] = df.apply(\n",
        "                    lambda row: overlap(row['%s' % column_name_list[0]], row[\n",
        "                        '%s' % column_name_list[1]]),\n",
        "                    axis=1)\n",
        "                # dataframe = dataframe.withColumn(\"feature_\"+str(column_length+counter), apply_overlap(column_name_list[0], column_name_list[1]))\n",
        "                counter = counter + 1\n",
        "\n",
        "        elif key == OVERLAPLEVENSHTEIN:\n",
        "            for value in values_list:\n",
        "                column_name_list = [\n",
        "                    column_name for column_name in column_list\n",
        "                    if value in column_name\n",
        "                ]\n",
        "                col_name = value + \"_\" + str(column_length + counter)\n",
        "                df[col_name] = df.apply(lambda row: overlap_levenshtein(\n",
        "                    row['%s' % column_name_list[0]], row['%s' %\n",
        "                                                         column_name_list[1]]),\n",
        "                                        axis=1)\n",
        "                # dataframe = dataframe.withColumn(\"feature_\"+str(column_length+counter), apply_overlap_levenshtein(column_name_list[0], column_name_list[1]))\n",
        "                counter = counter + 1\n",
        "\n",
        "        elif key == JACCARD:\n",
        "            for value in values_list:\n",
        "                column_name_list = [\n",
        "                    column_name for column_name in column_list\n",
        "                    if value in column_name\n",
        "                ]\n",
        "                col_name = value + \"_\" + str(column_length + counter)\n",
        "                df[col_name] = df.apply(\n",
        "                    lambda row: jaccard(row['%s' % column_name_list[0]], row[\n",
        "                        '%s' % column_name_list[1]]),\n",
        "                    axis=1)\n",
        "                # dataframe = dataframe.withColumn(\"feature_\"+str(column_length+counter), apply_jaccard(column_name_list[0], column_name_list[1]))\n",
        "                counter = counter + 1\n",
        "\n",
        "        if key == JACCARDLEVENSHTEIN:\n",
        "            for value in values_list:\n",
        "                column_name_list = [\n",
        "                    column_name for column_name in column_list\n",
        "                    if value in column_name\n",
        "                ]\n",
        "                col_name = value + \"_\" + str(column_length + counter)\n",
        "                df[col_name] = df.apply(lambda row: jaccard_levenshtein(\n",
        "                    row['%s' % column_name_list[0]], row['%s' %\n",
        "                                                         column_name_list[1]]),\n",
        "                                        axis=1)\n",
        "                # dataframe = dataframe.withColumn(\"feature_\"+str(column_length+counter), apply_jaccard_levenshtein(column_name_list[0], column_name_list[1]))\n",
        "                counter = counter + 1\n",
        "\n",
        "    return dataframe, counter"
      ],
      "execution_count": 0,
      "outputs": []
    },
    {
      "cell_type": "code",
      "metadata": {
        "colab_type": "code",
        "id": "IqOTYtTWaeza",
        "colab": {}
      },
      "source": [
        "df = bb[0]\n",
        "train_df = df[[\n",
        "    'system_address_14', 'system_alternatename_15', 'system_businessname_16',\n",
        "    'system_phonenumber_17', 'system_universalbusinessnumber_18',\n",
        "    'system_alternatename_19', 'system_businessname_20', 'LABEL'\n",
        "]]\n",
        "target = train_df.pop(\"LABEL\")\n",
        "dataset = tf.data.Dataset.from_tensor_slices((train_df.values, target.values))\n",
        "bb = applyAlgorithms(dataframe=df, algorithms=algos, column_list=cols)"
      ],
      "execution_count": 0,
      "outputs": []
    },
    {
      "cell_type": "markdown",
      "metadata": {
        "colab_type": "text",
        "id": "9owgBBGNiRD1"
      },
      "source": [
        "# **Taxonomy Declaration**"
      ]
    },
    {
      "cell_type": "code",
      "metadata": {
        "colab_type": "code",
        "id": "RVMqM1EqglR3",
        "colab": {}
      },
      "source": [
        "ACCOUNT_NAME = 'accountName'\n",
        "ACCOUNT_KEY = 'accountKey'\n",
        "CONTAINER_NAME = 'containerName'\n",
        "ANALYTICS_EXTERNAL = 'analytics-external'\n",
        "BLOB_END_SUFFIX = \".blob.core.windows.net\"\n",
        "BLOB_PREFIX = \"fs.azure.account.key.\"\n",
        "ANALYTICS_INTERNAL = 'analytics-internal'\n",
        "LEVENSHTEIN = 'levenshtein'\n",
        "SOUNDEX = 'soundex'\n",
        "OVERLAP = 'overlap'\n",
        "OVERLAPLEVENSHTEIN = 'overlapLevenshtein'\n",
        "JACCARD = 'jaccard'\n",
        "JACCARDLEVENSHTEIN = 'jaccardLevenshtein'"
      ],
      "execution_count": 0,
      "outputs": []
    },
    {
      "cell_type": "code",
      "metadata": {
        "colab_type": "code",
        "id": "xg_tVH_jTgdb",
        "colab": {}
      },
      "source": [
        "np.set_printoptions(precision=4)\n",
        "df = pd.read_csv(io.StringIO(data['BigData.csv'].decode('utf-8')))\n",
        "df['system_universalbusinessnumber_11'] = df[\n",
        "    'system_universalbusinessnumber_11'].astype(str)\n",
        "df['system_universalbusinessnumber_12'] = df[\n",
        "    'system_universalbusinessnumber_11'].astype(str)\n",
        "# df = df.drop([\n",
        "#     'feature_14', 'feature_15', 'feature_16', 'feature_17', 'feature_18',\n",
        "#     'feature_19', 'feature_20', 'feature_21'\n",
        "# ],\n",
        "#              axis=1)"
      ],
      "execution_count": 0,
      "outputs": []
    },
    {
      "cell_type": "code",
      "metadata": {
        "colab_type": "code",
        "id": "SuKPe0Q4XbSt",
        "colab": {}
      },
      "source": [
        "algos = {\n",
        "    'jaro_winkler': [],\n",
        "    'exact_match': [],\n",
        "    'overlapLevenshtein': [\n",
        "        'system_businessname', 'system_address', 'system_alternatename',\n",
        "        'system_phonenumber', 'system_universalbusinessnumber'\n",
        "    ],\n",
        "    'soundex': ['system_businessname', 'system_alternatename']\n",
        "}\n",
        "\n",
        "cols = [\n",
        "    'id', 'system_businessname_1', 'system_businessname_2',\n",
        "    'system_alternatename_3', 'system_alternatename_4', 'system_address_5',\n",
        "    'system_address_6', 'system_phonenumber_7', 'system_phonenumber_8',\n",
        "    'system_dateofinception_9', 'system_dateofinception_10',\n",
        "    'system_universalbusinessnumber_11', 'system_universalbusinessnumber_12',\n",
        "    'LABEL'\n",
        "]"
      ],
      "execution_count": 0,
      "outputs": []
    },
    {
      "cell_type": "markdown",
      "metadata": {
        "colab_type": "text",
        "id": "Q6eM69BMi6_l"
      },
      "source": [
        "# **Model Building**"
      ]
    },
    {
      "cell_type": "code",
      "metadata": {
        "colab_type": "code",
        "id": "zQozkWS90jri",
        "colab": {}
      },
      "source": [
        "import tensorflow as tf\n",
        "from keras.callbacks import TensorBoard\n",
        "from tensorflow.keras.models import Sequential\n",
        "from tensorflow.keras.layers import Dense\n",
        "from tensorboardcolab import TensorBoardColabCallback"
      ],
      "execution_count": 0,
      "outputs": []
    },
    {
      "cell_type": "code",
      "metadata": {
        "id": "KpJ51xxvQxDv",
        "colab_type": "code",
        "colab": {}
      },
      "source": [
        "DATASET_SIZE = len(df)"
      ],
      "execution_count": 0,
      "outputs": []
    },
    {
      "cell_type": "code",
      "metadata": {
        "id": "NUjiy6j-QnPy",
        "colab_type": "code",
        "colab": {}
      },
      "source": [
        "train_size = int(0.7 * DATASET_SIZE)\n",
        "val_size = int(0.15 * DATASET_SIZE)\n",
        "test_size = int(0.15 * DATASET_SIZE)"
      ],
      "execution_count": 0,
      "outputs": []
    },
    {
      "cell_type": "code",
      "metadata": {
        "colab_type": "code",
        "id": "2eYOPDpB0dKi",
        "colab": {}
      },
      "source": [
        "full_dataset = dataset.shuffle(len(df)).batch(1)\n",
        "train_dataset = full_dataset.take(train_size)\n",
        "test_dataset = full_dataset.skip(train_size)\n",
        "val_dataset = test_dataset.skip(val_size)\n",
        "test_dataset = test_dataset.take(test_size)"
      ],
      "execution_count": 0,
      "outputs": []
    },
    {
      "cell_type": "code",
      "metadata": {
        "id": "RAVwyVjSN683",
        "colab_type": "code",
        "colab": {}
      },
      "source": [
        "class myCallback(tf.keras.callbacks.Callback):\n",
        "    def on_epoch_end(self, epoch, logs={}):\n",
        "        if (logs.get('accuracy') > 0.99):\n",
        "            print(\n",
        "                \"\\n\\n\\nAchieved accuracy above 99% so halting any further training!\\nas it might cause Overfitting\\n\\n\"\n",
        "            )\n",
        "            self.model.stop_training = True\n",
        "\n",
        "callback = myCallback()"
      ],
      "execution_count": 0,
      "outputs": []
    },
    {
      "cell_type": "code",
      "metadata": {
        "colab_type": "code",
        "collapsed": true,
        "id": "Y6F0fTVy04nl",
        "colab": {}
      },
      "source": [
        "from tensorflow.keras.optimizers import RMSprop\n",
        "tf.keras.backend.set_floatx('float64')\n",
        "\n",
        "#Model 6H8N \n",
        "def get_compiled_model():\n",
        "    model = tf.keras.Sequential([\n",
        "        tf.keras.layers.Dense(8, activation='relu'),\n",
        "        tf.keras.layers.Dense(8, activation='relu'),\n",
        "        tf.keras.layers.Dense(8, activation='relu'),\n",
        "        tf.keras.layers.Dense(8, activation='relu'),\n",
        "        tf.keras.layers.Dense(8, activation='relu'),\n",
        "        tf.keras.layers.Dense(8, activation='relu'),\n",
        "        tf.keras.layers.Dense(1, activation='sigmoid')\n",
        "    ])\n",
        "    \n",
        "    model.compile(optimizer=RMSprop(lr=0.001),\n",
        "                  loss='binary_crossentropy',\n",
        "                  metrics=['accuracy'],\n",
        "                  verbose=1,\n",
        "                  callbacks = [callback]\n",
        "                  ) \n",
        "    \n",
        "    return model"
      ],
      "execution_count": 0,
      "outputs": []
    },
    {
      "cell_type": "code",
      "metadata": {
        "id": "OdjO1-t3SFHt",
        "colab_type": "code",
        "colab": {
          "base_uri": "https://localhost:8080/",
          "height": 697
        },
        "outputId": "4e5cf8cf-f5a2-4bcb-c202-d5ec30b57345"
      },
      "source": [
        "model = get_compiled_model()\n",
        "model_history = model.fit(x=train_dataset,\n",
        "                    validation_data=val_dataset ,\n",
        "                    epochs=20)"
      ],
      "execution_count": 146,
      "outputs": [
        {
          "output_type": "stream",
          "text": [
            "Epoch 1/20\n",
            "25776/25776 [==============================] - 157s 6ms/step - loss: 0.4389 - accuracy: 0.7749 - val_loss: 0.0000e+00 - val_accuracy: 0.0000e+00\n",
            "Epoch 2/20\n",
            "25776/25776 [==============================] - 103s 4ms/step - loss: 0.4589 - accuracy: 0.7714 - val_loss: 0.6416 - val_accuracy: 0.7753\n",
            "Epoch 3/20\n",
            "25776/25776 [==============================] - 101s 4ms/step - loss: 0.4789 - accuracy: 0.7647 - val_loss: 0.9715 - val_accuracy: 0.7737\n",
            "Epoch 4/20\n",
            "25776/25776 [==============================] - 99s 4ms/step - loss: 0.4809 - accuracy: 0.7689 - val_loss: 0.4434 - val_accuracy: 0.7592\n",
            "Epoch 5/20\n",
            "25776/25776 [==============================] - 102s 4ms/step - loss: 0.4750 - accuracy: 0.7688 - val_loss: 0.4306 - val_accuracy: 0.7663\n",
            "Epoch 6/20\n",
            "25776/25776 [==============================] - 101s 4ms/step - loss: 0.4588 - accuracy: 0.7750 - val_loss: 0.4404 - val_accuracy: 0.7858\n",
            "Epoch 7/20\n",
            "25776/25776 [==============================] - 101s 4ms/step - loss: 0.4718 - accuracy: 0.7772 - val_loss: 0.4180 - val_accuracy: 0.7869\n",
            "Epoch 8/20\n",
            "25776/25776 [==============================] - 102s 4ms/step - loss: 0.4620 - accuracy: 0.7738 - val_loss: 0.6364 - val_accuracy: 0.7797\n",
            "Epoch 9/20\n",
            "25776/25776 [==============================] - 103s 4ms/step - loss: 0.4952 - accuracy: 0.7753 - val_loss: 0.5156 - val_accuracy: 0.7829\n",
            "Epoch 10/20\n",
            "25776/25776 [==============================] - 103s 4ms/step - loss: 0.4882 - accuracy: 0.7755 - val_loss: 0.5494 - val_accuracy: 0.5787\n",
            "Epoch 11/20\n",
            "25776/25776 [==============================] - 103s 4ms/step - loss: 0.5237 - accuracy: 0.7725 - val_loss: 0.5081 - val_accuracy: 0.7659\n",
            "Epoch 12/20\n",
            "25776/25776 [==============================] - 102s 4ms/step - loss: 0.5658 - accuracy: 0.7742 - val_loss: 1.2243 - val_accuracy: 0.7826\n",
            "Epoch 13/20\n",
            "25776/25776 [==============================] - 101s 4ms/step - loss: 0.5631 - accuracy: 0.7762 - val_loss: 0.4043 - val_accuracy: 0.7643\n",
            "Epoch 14/20\n",
            "25776/25776 [==============================] - 102s 4ms/step - loss: 0.5739 - accuracy: 0.7671 - val_loss: 0.7491 - val_accuracy: 0.7683\n",
            "Epoch 15/20\n",
            "25776/25776 [==============================] - 102s 4ms/step - loss: 0.5409 - accuracy: 0.7694 - val_loss: 0.4891 - val_accuracy: 0.7712\n",
            "Epoch 16/20\n",
            "25776/25776 [==============================] - 102s 4ms/step - loss: 0.5605 - accuracy: 0.7711 - val_loss: 0.7230 - val_accuracy: 0.7638\n",
            "Epoch 17/20\n",
            "25776/25776 [==============================] - 103s 4ms/step - loss: 0.5788 - accuracy: 0.7690 - val_loss: 1.0319 - val_accuracy: 0.7681\n",
            "Epoch 18/20\n",
            "25776/25776 [==============================] - 103s 4ms/step - loss: 0.5482 - accuracy: 0.7692 - val_loss: 0.6848 - val_accuracy: 0.7724\n",
            "Epoch 19/20\n",
            "25776/25776 [==============================] - 107s 4ms/step - loss: 0.5160 - accuracy: 0.7706 - val_loss: 0.3993 - val_accuracy: 0.7744\n",
            "Epoch 20/20\n",
            "25776/25776 [==============================] - 107s 4ms/step - loss: 0.5205 - accuracy: 0.7748 - val_loss: 0.5512 - val_accuracy: 0.7768\n"
          ],
          "name": "stdout"
        }
      ]
    },
    {
      "cell_type": "code",
      "metadata": {
        "colab_type": "code",
        "id": "f66NhxBskjSy",
        "colab": {}
      },
      "source": [
        "import matplotlib.pyplot as plt\n",
        "acc = model_history.history['accuracy']\n",
        "val_acc = model_history.history['val_accuracy']\n",
        "epochs = range(len(acc))"
      ],
      "execution_count": 0,
      "outputs": []
    },
    {
      "cell_type": "code",
      "metadata": {
        "id": "58J9jkMijjLL",
        "colab_type": "code",
        "colab": {
          "base_uri": "https://localhost:8080/",
          "height": 621
        },
        "outputId": "bd988267-7192-4bd2-fa85-7adb3cc7466b"
      },
      "source": [
        "plt.figure(figsize=(17,10))\n",
        "plt.plot(range(1,21), acc, 'r', label='Training accuracy')\n",
        "plt.plot(range(1,21), val_acc, 'b', label='Validation accuracy')\n",
        "plt.title('Training and validation accuracy')\n",
        "plt.xlabel('Epochs')\n",
        "plt.ylabel('Accuracy')\n",
        "plt.legend(loc=0)\n",
        "plt.grid()\n",
        "plt.show()"
      ],
      "execution_count": 148,
      "outputs": [
        {
          "output_type": "display_data",
          "data": {
            "image/png": "[encoded data removed]",
            "text/plain": [
              "<Figure size 1224x720 with 1 Axes>"
            ]
          },
          "metadata": {
            "tags": []
          }
        }
      ]
    },
    {
      "cell_type": "code",
      "metadata": {
        "id": "qKUyOEF6k2rr",
        "colab_type": "code",
        "colab": {
          "base_uri": "https://localhost:8080/",
          "height": 621
        },
        "outputId": "5cddeec1-3336-4ba7-fe29-7dd40d414ea5"
      },
      "source": [
        "\n",
        "loss = history.history['loss']\n",
        "val_loss = history.history['val_loss']\n",
        "plt.figure(figsize=(18,10))\n",
        "plt.plot(range(1,11), loss, 'r', label='Training loss')\n",
        "plt.plot(range(1,11), val_loss, 'b', label='Validation loss')\n",
        "plt.title('Loss and validation loss')\n",
        "plt.xlabel('Epochs')\n",
        "plt.ylabel('Loss')\n",
        "plt.legend(loc=1)\n",
        "plt.grid()\n",
        "plt.show()"
      ],
      "execution_count": 150,
      "outputs": [
        {
          "output_type": "display_data",
          "data": {
            "image/png": "[encoded data removed]",
            "text/plain": [
              "<Figure size 1296x720 with 1 Axes>"
            ]
          },
          "metadata": {
            "tags": []
          }
        }
      ]
    },
    {
      "cell_type": "code",
      "metadata": {
        "id": "X88imONStcM8",
        "colab_type": "code",
        "colab": {}
      },
      "source": [
        "#Model 6H8N with dropouts\n",
        "def get_dropout_compiled_model():\n",
        "    model = tf.keras.Sequential([\n",
        "        tf.keras.layers.Dense(8, activation='relu', ),\n",
        "        tf.keras.layers.Dense(8, activation='relu'),\n",
        "        tf.keras.layers.Dropout(0.2),\n",
        "        tf.keras.layers.Dense(8, activation='relu'),\n",
        "        tf.keras.layers.Dropout(0.2),\n",
        "        tf.keras.layers.Dense(8, activation='relu'),\n",
        "        tf.keras.layers.Dropout(0.2),\n",
        "        tf.keras.layers.Dense(8, activation='relu'),\n",
        "        tf.keras.layers.Dropout(0.2),\n",
        "        tf.keras.layers.Dense(8, activation='relu'),\n",
        "        tf.keras.layers.Dense(1, activation='sigmoid')\n",
        "    ])\n",
        "    \n",
        "    model.compile(optimizer=RMSprop(lr=0.001),\n",
        "                  loss='binary_crossentropy',\n",
        "                  metrics=['accuracy'],\n",
        "                  verbose=1,\n",
        "                  callbacks = [callback]\n",
        "                  ) \n",
        "    \n",
        "    return model"
      ],
      "execution_count": 0,
      "outputs": []
    },
    {
      "cell_type": "code",
      "metadata": {
        "id": "aafuwY48t0e0",
        "colab_type": "code",
        "colab": {
          "base_uri": "https://localhost:8080/",
          "height": 357
        },
        "outputId": "d0b4c6cf-b80f-4c0a-9895-6f141592eada"
      },
      "source": [
        "droput_model = get_dropout_compiled_model()\n",
        "\n",
        "droput_history = droput_model.fit(x=train_dataset,\n",
        "                    validation_data=val_dataset,\n",
        "                    epochs=10)"
      ],
      "execution_count": 152,
      "outputs": [
        {
          "output_type": "stream",
          "text": [
            "Epoch 1/10\n",
            "25776/25776 [==============================] - 165s 6ms/step - loss: 0.5405 - accuracy: 0.7566 - val_loss: 0.0000e+00 - val_accuracy: 0.0000e+00\n",
            "Epoch 2/10\n",
            "25776/25776 [==============================] - 109s 4ms/step - loss: 0.5806 - accuracy: 0.7580 - val_loss: 0.4649 - val_accuracy: 0.7531\n",
            "Epoch 3/10\n",
            "25776/25776 [==============================] - 108s 4ms/step - loss: 0.5647 - accuracy: 0.7632 - val_loss: 0.4861 - val_accuracy: 0.7359\n",
            "Epoch 4/10\n",
            "25776/25776 [==============================] - 109s 4ms/step - loss: 0.5838 - accuracy: 0.7615 - val_loss: 0.4876 - val_accuracy: 0.7699\n",
            "Epoch 5/10\n",
            "25776/25776 [==============================] - 110s 4ms/step - loss: 0.5455 - accuracy: 0.7587 - val_loss: 0.5921 - val_accuracy: 0.7549\n",
            "Epoch 6/10\n",
            "25776/25776 [==============================] - 109s 4ms/step - loss: 0.6317 - accuracy: 0.7574 - val_loss: 0.5922 - val_accuracy: 0.7589\n",
            "Epoch 7/10\n",
            "25776/25776 [==============================] - 109s 4ms/step - loss: 0.5893 - accuracy: 0.7603 - val_loss: 0.5045 - val_accuracy: 0.7634\n",
            "Epoch 8/10\n",
            "25776/25776 [==============================] - 109s 4ms/step - loss: 0.5736 - accuracy: 0.7562 - val_loss: 0.4699 - val_accuracy: 0.7744\n",
            "Epoch 9/10\n",
            "25776/25776 [==============================] - 108s 4ms/step - loss: 0.6354 - accuracy: 0.7597 - val_loss: 0.7317 - val_accuracy: 0.7580\n",
            "Epoch 10/10\n",
            "25776/25776 [==============================] - 109s 4ms/step - loss: 0.6515 - accuracy: 0.7561 - val_loss: 0.5126 - val_accuracy: 0.7567\n"
          ],
          "name": "stdout"
        }
      ]
    },
    {
      "cell_type": "code",
      "metadata": {
        "id": "U2Vpn0HM6TpK",
        "colab_type": "code",
        "colab": {
          "base_uri": "https://localhost:8080/",
          "height": 621
        },
        "outputId": "5a6ac564-785f-4c72-c4f9-0332c799b41f"
      },
      "source": [
        "acc = droput_history.history['accuracy']\n",
        "val_acc = droput_history.history['val_accuracy']\n",
        "epochs = range(len(acc))\n",
        "plt.figure(figsize=(17,10))\n",
        "plt.plot(range(1,11), acc, 'r', label='Training accuracy')\n",
        "plt.plot(range(1,11), val_acc, 'b', label='Validation accuracy')\n",
        "plt.title('Training and validation accuracy')\n",
        "plt.xlabel('Epochs')\n",
        "plt.ylabel('Accuracy')\n",
        "plt.legend(loc=0)\n",
        "plt.grid()\n",
        "plt.show()"
      ],
      "execution_count": 153,
      "outputs": [
        {
          "output_type": "display_data",
          "data": {
            "image/png": "[encoded data removed]",
            "text/plain": [
              "<Figure size 1224x720 with 1 Axes>"
            ]
          },
          "metadata": {
            "tags": []
          }
        }
      ]
    },
    {
      "cell_type": "code",
      "metadata": {
        "id": "1kC0pL9GKj47",
        "colab_type": "code",
        "colab": {
          "base_uri": "https://localhost:8080/",
          "height": 621
        },
        "outputId": "758e6e68-5dca-41d9-a5aa-cf029b71be51"
      },
      "source": [
        "loss = history.history['loss']\n",
        "val_loss = history.history['val_loss']\n",
        "plt.figure(figsize=(18,10))\n",
        "plt.plot(range(1,11), loss, 'r', label='Training loss')\n",
        "plt.plot(range(1,11), val_loss, 'b', label='Validation loss')\n",
        "plt.title('Loss and validation loss')\n",
        "plt.xlabel('Epochs')\n",
        "plt.ylabel('Loss')\n",
        "plt.legend(loc=1)\n",
        "plt.grid()\n",
        "plt.show()"
      ],
      "execution_count": 155,
      "outputs": [
        {
          "output_type": "display_data",
          "data": {
            "image/png": "[encoded data removed]",
            "text/plain": [
              "<Figure size 1296x720 with 1 Axes>"
            ]
          },
          "metadata": {
            "tags": []
          }
        }
      ]
    },
    {
      "cell_type": "code",
      "metadata": {
        "id": "ipjqz7WyxU3D",
        "colab_type": "code",
        "colab": {
          "base_uri": "https://localhost:8080/",
          "height": 615
        },
        "outputId": "99f39128-7b62-49f3-efdd-9e879dde2d1b"
      },
      "source": [
        "print(droput_model.layers)\n",
        "print(droput_model.summary())\n",
        "print(droput_model.outputs)\n",
        "print(droput_model.inputs)"
      ],
      "execution_count": 154,
      "outputs": [
        {
          "output_type": "stream",
          "text": [
            "[<tensorflow.python.keras.layers.core.Dense object at 0x7fc6182d2978>, <tensorflow.python.keras.layers.core.Dense object at 0x7fc617250b70>, <tensorflow.python.keras.layers.core.Dropout object at 0x7fc6172446a0>, <tensorflow.python.keras.layers.core.Dense object at 0x7fc617244588>, <tensorflow.python.keras.layers.core.Dropout object at 0x7fc6172443c8>, <tensorflow.python.keras.layers.core.Dense object at 0x7fc617244390>, <tensorflow.python.keras.layers.core.Dropout object at 0x7fc6172441d0>, <tensorflow.python.keras.layers.core.Dense object at 0x7fc6172440b8>, <tensorflow.python.keras.layers.core.Dropout object at 0x7fc617244780>, <tensorflow.python.keras.layers.core.Dense object at 0x7fc617244cf8>, <tensorflow.python.keras.layers.core.Dense object at 0x7fc617244e48>]\n",
            "Model: \"sequential_12\"\n",
            "_________________________________________________________________\n",
            "Layer (type)                 Output Shape              Param #   \n",
            "=================================================================\n",
            "dense_77 (Dense)             multiple                  64        \n",
            "_________________________________________________________________\n",
            "dense_78 (Dense)             multiple                  72        \n",
            "_________________________________________________________________\n",
            "dropout_6 (Dropout)          multiple                  0         \n",
            "_________________________________________________________________\n",
            "dense_79 (Dense)             multiple                  72        \n",
            "_________________________________________________________________\n",
            "dropout_7 (Dropout)          multiple                  0         \n",
            "_________________________________________________________________\n",
            "dense_80 (Dense)             multiple                  72        \n",
            "_________________________________________________________________\n",
            "dropout_8 (Dropout)          multiple                  0         \n",
            "_________________________________________________________________\n",
            "dense_81 (Dense)             multiple                  72        \n",
            "_________________________________________________________________\n",
            "dropout_9 (Dropout)          multiple                  0         \n",
            "_________________________________________________________________\n",
            "dense_82 (Dense)             multiple                  72        \n",
            "_________________________________________________________________\n",
            "dense_83 (Dense)             multiple                  9         \n",
            "=================================================================\n",
            "Total params: 433\n",
            "Trainable params: 433\n",
            "Non-trainable params: 0\n",
            "_________________________________________________________________\n",
            "None\n",
            "[<tf.Tensor 'sequential_12/Identity:0' shape=(None, 1) dtype=float64>]\n",
            "[<tf.Tensor 'input_1_6:0' shape=(None, 7) dtype=float64>]\n"
          ],
          "name": "stdout"
        }
      ]
    },
    {
      "cell_type": "markdown",
      "metadata": {
        "colab_type": "text",
        "id": "21Ru5CEBjBVi"
      },
      "source": [
        "# **TensorFlow Dataset API for GPU and TPU processing**"
      ]
    },
    {
      "cell_type": "markdown",
      "metadata": {
        "colab_type": "text",
        "id": "ksFTnFuOgxw0"
      },
      "source": [
        "<br> <br> <br> \n",
        "**Load Data frame and Make Tensor**"
      ]
    },
    {
      "cell_type": "code",
      "metadata": {
        "colab_type": "code",
        "id": "f8sGa54nmXn0",
        "colab": {}
      },
      "source": [
        "data_slices = tf.data.Dataset.from_tensor_slices(dict(df))\n",
        "for feature_batch in data_slices.take(1):\n",
        "  for key, value in feature_batch.items():\n",
        "    print(\"  {!r:20s}: {}\".format(key, value))"
      ],
      "execution_count": 0,
      "outputs": []
    },
    {
      "cell_type": "markdown",
      "metadata": {
        "colab_type": "text",
        "id": "0yBAZjIwgHiQ"
      },
      "source": [
        "**Load CSV data and create a tensor**"
      ]
    },
    {
      "cell_type": "code",
      "metadata": {
        "colab_type": "code",
        "id": "GFAyS6LtyS_6",
        "colab": {}
      },
      "source": [
        "def get_dataset(file_path, **kwargs):\n",
        "  dataset = tf.data.experimental.make_csv_dataset(\n",
        "      file_path,\n",
        "      batch_size=5, # Artificially small to make examples easier to show.\n",
        "      label_name=\"LABEL\",\n",
        "      na_value=\"?\",\n",
        "      num_epochs=1,\n",
        "      ignore_errors=True, \n",
        "      **kwargs)\n",
        "  return dataset\n",
        "\n",
        "raw_train_data = get_dataset(\"/content/BigData.csv\")"
      ],
      "execution_count": 0,
      "outputs": []
    },
    {
      "cell_type": "code",
      "metadata": {
        "colab_type": "code",
        "id": "SMC-U-vHdlLZ",
        "colab": {}
      },
      "source": [
        "def show_batch(dataset):\n",
        "  for batch, label in dataset.take(1):\n",
        "    for key, value in batch.items():\n",
        "      print(\"{:20s}: {}\".format(key,value.numpy()))\n",
        "\n",
        "show_batch(raw_train_data)"
      ],
      "execution_count": 0,
      "outputs": []
    },
    {
      "cell_type": "markdown",
      "metadata": {
        "colab_type": "text",
        "id": "hgxUtIKshrb8"
      },
      "source": [
        "<br><br><br><br><br>"
      ]
    },
    {
      "cell_type": "code",
      "metadata": {
        "colab_type": "code",
        "id": "iROIM3VBZRiC",
        "colab": {}
      },
      "source": [
        "processed_df, counter = applyAlgorithms(dataframe=df,algorithms=algos,column_list=cols)"
      ],
      "execution_count": 0,
      "outputs": []
    },
    {
      "cell_type": "code",
      "metadata": {
        "id": "dYaJOoduLOW9",
        "colab_type": "code",
        "colab": {}
      },
      "source": [
        "# !wget https://bin.equinox.io/c/4VmDzA7iaHb/ngrok-stable-linux-amd64.zip\n",
        "# !unzip ngrok-stable-linux-amd64.zip\n",
        "\n",
        "# !pip install tensorboardcolab\n",
        "# !wget https://bin.equinox.io/c/4VmDzA7iaHb/ngrok-stable-linux-amd64.zip\n",
        "# !unzip ngrok-stable-linux-amd64.zip\n",
        "\n",
        "\n",
        "\n",
        "# LOG_DIR = './log'\n",
        "# get_ipython().system_raw('tensorboard --logdir {} --host 0.0.0.0 --port 6006 &'.format(LOG_DIR))\n",
        "# get_ipython().system_raw('./ngrok http 6006 &')\n",
        "\n",
        "# ! curl -s http://localhost:4040/api/tunnels | python3 -c \"import sys, json; print(json.load(sys.stdin)['tunnels'][0]['public_url'])\""
      ],
      "execution_count": 0,
      "outputs": []
    }
  ]
}