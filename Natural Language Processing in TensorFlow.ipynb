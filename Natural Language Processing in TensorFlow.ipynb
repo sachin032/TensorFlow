{
  "nbformat": 4,
  "nbformat_minor": 0,
  "metadata": {
    "kernelspec": {
      "display_name": "Python 3",
      "language": "python",
      "name": "python3"
    },
    "language_info": {
      "codemirror_mode": {
        "name": "ipython",
        "version": 3
      },
      "file_extension": ".py",
      "mimetype": "text/x-python",
      "name": "python",
      "nbconvert_exporter": "python",
      "pygments_lexer": "ipython3",
      "version": "3.7.4"
    },
    "toc": {
      "base_numbering": 1,
      "nav_menu": {},
      "number_sections": false,
      "sideBar": true,
      "skip_h1_title": false,
      "title_cell": "Table of Contents",
      "title_sidebar": "Contents",
      "toc_cell": false,
      "toc_position": {
        "height": "calc(100% - 180px)",
        "left": "10px",
        "top": "150px",
        "width": "165px"
      },
      "toc_section_display": true,
      "toc_window_display": false
    },
    "varInspector": {
      "cols": {
        "lenName": 16,
        "lenType": 16,
        "lenVar": 40
      },
      "kernels_config": {
        "python": {
          "delete_cmd_postfix": "",
          "delete_cmd_prefix": "del ",
          "library": "var_list.py",
          "varRefreshCmd": "print(var_dic_list())"
        },
        "r": {
          "delete_cmd_postfix": ") ",
          "delete_cmd_prefix": "rm(",
          "library": "var_list.r",
          "varRefreshCmd": "cat(var_dic_list()) "
        }
      },
      "types_to_exclude": [
        "module",
        "function",
        "builtin_function_or_method",
        "instance",
        "_Feature"
      ],
      "window_display": false
    },
    "colab": {
      "name": "Natural Language Processing in TensorFlow.ipynb",
      "provenance": [],
      "include_colab_link": true
    }
  },
  "cells": [
    {
      "cell_type": "markdown",
      "metadata": {
        "id": "view-in-github",
        "colab_type": "text"
      },
      "source": [
        "<a href=\"https://colab.research.google.com/github/sachin032/Tensorflow/blob/master/Natural%20Language%20Processing%20in%20TensorFlow.ipynb\" target=\"_parent\"><img src=\"https://colab.research.google.com/assets/colab-badge.svg\" alt=\"Open In Colab\"/></a>"
      ]
    },
    {
      "cell_type": "code",
      "metadata": {
        "ExecuteTime": {
          "end_time": "2020-02-26T12:41:22.150140Z",
          "start_time": "2020-02-26T12:41:22.133155Z"
        },
        "id": "tGYYGmUq4LXX",
        "colab_type": "code",
        "colab": {},
        "outputId": "68ff4f29-28f0-41bb-f81d-28d125a239dd"
      },
      "source": [
        "from IPython.core.display import display, HTML\n",
        "display(HTML(\"<style>.container { width:100% !important; }</style>\"))"
      ],
      "execution_count": 0,
      "outputs": [
        {
          "output_type": "display_data",
          "data": {
            "text/html": [
              "<style>.container { width:100% !important; }</style>"
            ],
            "text/plain": [
              "<IPython.core.display.HTML object>"
            ]
          },
          "metadata": {
            "tags": []
          }
        }
      ]
    },
    {
      "cell_type": "markdown",
      "metadata": {
        "id": "S677RIlL4LXs",
        "colab_type": "text"
      },
      "source": [
        "# PART - 1"
      ]
    },
    {
      "cell_type": "markdown",
      "metadata": {
        "id": "5oUnluak4LXw",
        "colab_type": "text"
      },
      "source": [
        "**Sentiment in Text**"
      ]
    },
    {
      "cell_type": "code",
      "metadata": {
        "ExecuteTime": {
          "end_time": "2020-02-26T12:41:23.924835Z",
          "start_time": "2020-02-26T12:41:22.152875Z"
        },
        "code_folding": [
          3,
          10,
          20
        ],
        "id": "fCjFRGfo4LX0",
        "colab_type": "code",
        "colab": {}
      },
      "source": [
        "from tensorflow.keras.preprocessing.text import Tokenizer\n",
        "\n",
        "class Natural_Language_Processing():\n",
        "    def __init__(self):\n",
        "        pass\n",
        "\n",
        "    '''\n",
        "    Very simple tokenization based on Keras API.\n",
        "    Note: Tokenizer API by default removes punctuations as well.\n",
        "    '''\n",
        "    def corpus_tokenizer(self, sentence_list):\n",
        "        #setting hyper parameter of the Tokenizer API to 100, will pick top 100 words only.\n",
        "        tokenizer = Tokenizer(num_words=100)\n",
        "        tokenizer.fit_on_texts(sentence_list)\n",
        "        tokenized_index = tokenizer.word_index\n",
        "        return tokenized_index\n",
        "\n",
        "    '''\n",
        "    Convert text to sequences\n",
        "    '''\n",
        "    def texts_to_sequences(self, text):\n",
        "        tokenizer = Tokenizer(num_words=100)\n",
        "        tokenizer.fit_on_texts(text)\n",
        "        text_to_sequence = tokenizer.texts_to_sequences(text)\n",
        "        return text_to_sequence\n",
        "    "
      ],
      "execution_count": 0,
      "outputs": []
    },
    {
      "cell_type": "code",
      "metadata": {
        "ExecuteTime": {
          "end_time": "2020-02-26T12:41:23.932417Z",
          "start_time": "2020-02-26T12:41:23.926366Z"
        },
        "code_folding": [
          2
        ],
        "id": "As5hJbzF4LYV",
        "colab_type": "code",
        "colab": {},
        "outputId": "9b217649-1792-41ea-bacf-502c5ad84037"
      },
      "source": [
        "object = Natural_Language_Processing()\n",
        "\n",
        "sentence = [\n",
        "    'i love my dog', 'i love my cat', 'i love my country',\n",
        "    'india is my country and it is full of nature'\n",
        "]\n",
        "\n",
        "# Tokenization\n",
        "tokenized_word_index = object.corpus_tokenizer(sentence)\n",
        "print(tokenized_word_index)\n",
        "\n",
        "#Text to sequence\n",
        "texts_to_sequences = object.texts_to_sequences(sentence)\n",
        "print(\"\\n\\n\", texts_to_sequences)"
      ],
      "execution_count": 0,
      "outputs": [
        {
          "output_type": "stream",
          "text": [
            "{'my': 1, 'i': 2, 'love': 3, 'country': 4, 'is': 5, 'dog': 6, 'cat': 7, 'india': 8, 'and': 9, 'it': 10, 'full': 11, 'of': 12, 'nature': 13}\n",
            "\n",
            "\n",
            " [[2, 3, 1, 6], [2, 3, 1, 7], [2, 3, 1, 4], [8, 5, 1, 4, 9, 10, 5, 11, 12, 13]]\n"
          ],
          "name": "stdout"
        }
      ]
    },
    {
      "cell_type": "markdown",
      "metadata": {
        "id": "OwrDgTB54LYd",
        "colab_type": "text"
      },
      "source": [
        "# PART - 2"
      ]
    },
    {
      "cell_type": "markdown",
      "metadata": {
        "id": "l9iCSpQt4LYf",
        "colab_type": "text"
      },
      "source": [
        "### **Word Embeddings**"
      ]
    },
    {
      "cell_type": "markdown",
      "metadata": {
        "id": "0U9Pc-oS4LYg",
        "colab_type": "text"
      },
      "source": [
        "**What is word embedding?**"
      ]
    },
    {
      "cell_type": "markdown",
      "metadata": {
        "ExecuteTime": {
          "end_time": "2020-02-21T23:41:00.152271Z",
          "start_time": "2020-02-21T23:41:00.144604Z"
        },
        "id": "0XVpo-sA4LYl",
        "colab_type": "text"
      },
      "source": [
        "**Word embeddings** are basically a form of word representation that bridges the human understanding of language to that of a machine.<br>Word embeddings are distributed representations of text in an n-dimensional space.<br>These are essential for solving most NLP problems.<br><br> For better understanding please have a look at [Word embedding in NLP](https://hackernoon.com/word-embeddings-in-nlp-and-its-applications-fab15eaf7430)"
      ]
    },
    {
      "cell_type": "markdown",
      "metadata": {
        "id": "nTE-WAzi4LYp",
        "colab_type": "text"
      },
      "source": [
        "Let's start learning by doing.<br> **TensorFlow Dataset** aka **tfds** is great resource of data for exploring multiple Machine learning Ideas.<br>\n",
        "For better understanding of this module please click on to [Tensorflow Dataset API](https://www.tensorflow.org/datasets/api_docs/python/tfds)"
      ]
    },
    {
      "cell_type": "markdown",
      "metadata": {
        "ExecuteTime": {
          "end_time": "2020-02-21T23:28:32.520004Z",
          "start_time": "2020-02-21T23:28:32.516564Z"
        },
        "id": "OgnLsfa44LYr",
        "colab_type": "text"
      },
      "source": [
        "Make sure it is usign Python 3.X <br>\n",
        "If using tensorflow version 1.X we need to run the below command<br>\n",
        "**tf.enable_eager_execution()**\n",
        "<br>\n",
        "Reason behind running this command is that **Tensorflow 2.X** is by default have the eager execution on.\n",
        "<br><br>\n",
        "Let's use IMDB movie review dataset for our learning purpose.\n",
        "I would love to say that before you start the experiments and getting into hot water, just have a look about the information regarding this dataset.\n",
        "[IMDB Reviews](https://www.tensorflow.org/datasets/catalog/imdb_reviews)"
      ]
    },
    {
      "cell_type": "code",
      "metadata": {
        "ExecuteTime": {
          "end_time": "2020-02-26T12:41:24.134698Z",
          "start_time": "2020-02-26T12:41:23.935042Z"
        },
        "code_folding": [
          10,
          21
        ],
        "scrolled": true,
        "id": "KigTblmN4LYs",
        "colab_type": "code",
        "colab": {}
      },
      "source": [
        "import numpy as np\n",
        "import tensorflow_datasets as tfds\n",
        "\n",
        "#To tokenize the corpus\n",
        "from tensorflow.keras.preprocessing.text import Tokenizer\n",
        "\n",
        "#To maintain the uniform structure of the sequences we need to pad them\n",
        "from tensorflow.keras.preprocessing.sequence import pad_sequences\n",
        "\n",
        "class ReviewClassifier():\n",
        "    def __init__(self, vocab_size, embedding_dim, sentence_max_length,\n",
        "                 truncation_type):\n",
        "        self.vocab_size = vocab_size\n",
        "        self.embedding_dim = embedding_dim\n",
        "        self.max_length = sentence_max_length\n",
        "        self.trunc_type = truncation_type\n",
        "        self.oov_tok = \"<OOV>\"\n",
        "\n",
        "    '''\n",
        "    Load the IMDB dataset using tfds API from Tendorflow.\n",
        "    '''\n",
        "    def dataLoader(self):\n",
        "        imdb, info = tfds.load('imdb_reviews',\n",
        "                               with_info=True,\n",
        "                               as_supervised=True)\n",
        "        return imdb, info\n",
        "\n",
        "    '''\n",
        "    Definition to split the data into train and test\n",
        "    '''\n",
        "    def dataSplitter(self, imdb):\n",
        "        # 25k samples for each sample set\n",
        "        train_data, test_data = imdb['train'], imdb['test']\n",
        "        return train_data, test_data\n",
        "\n",
        "    '''\n",
        "    We need to convert the training and testing dataset to an array of sentences\n",
        "    '''\n",
        "    def dataConverter(self, imdb):\n",
        "\n",
        "        train_data, test_data = self.dataSplitter(imdb)\n",
        "\n",
        "        training_sentences = []\n",
        "        training_labels = []\n",
        "\n",
        "        testing_sentences = []\n",
        "        testing_labels = []\n",
        "\n",
        "        for sentence, label in train_data:\n",
        "            training_sentences.append(str(sentence.numpy()))\n",
        "            training_labels.append(str(label.numpy()))\n",
        "\n",
        "        for sentence, label in test_data:\n",
        "            testing_sentences.append(str(sentence.numpy()))\n",
        "            testing_labels.append(str(label.numpy()))\n",
        "\n",
        "        training_labels_final = np.array(training_labels)\n",
        "        training_labels_final = training_labels_final.astype(np.float)\n",
        "        testing_labels_final = np.array(testing_labels)\n",
        "        testing_labels_final = testing_labels_final.astype(np.float)\n",
        "\n",
        "        tokenizer = Tokenizer(num_words=self.vocab_size,\n",
        "                              oov_token=self.oov_tok)\n",
        "        tokenizer.fit_on_texts(training_sentences)\n",
        "        word_index = tokenizer.word_index\n",
        "\n",
        "        training_sequences = tokenizer.texts_to_sequences(training_sentences)\n",
        "        training_padded = pad_sequences(training_sequences,\n",
        "                                        maxlen=self.max_length,\n",
        "                                        truncating=self.trunc_type)\n",
        "\n",
        "        testing_sequences = tokenizer.texts_to_sequences(testing_sentences)\n",
        "        testing_padded = pad_sequences(testing_sequences,\n",
        "                                       maxlen=self.max_length)\n",
        "\n",
        "        return training_sentences, training_padded,training_labels_final, testing_sentences, testing_padded,testing_labels_final\n",
        "\n",
        "    def decode_review(self, text):\n",
        "        tokenizer = Tokenizer(num_words=self.vocab_size,\n",
        "                              oov_token=self.oov_tok)\n",
        "        tokenizer.fit_on_texts(training_sentences)\n",
        "        word_index = tokenizer.word_index\n",
        "        reverse_word_index = dict([(value, key)\n",
        "                                   for (key, value) in word_index.items()])\n",
        "        return ' '.join([reverse_word_index.get(i, '?') for i in text]) , reverse_word_index"
      ],
      "execution_count": 0,
      "outputs": []
    },
    {
      "cell_type": "code",
      "metadata": {
        "ExecuteTime": {
          "end_time": "2020-02-26T12:41:48.060354Z",
          "start_time": "2020-02-26T12:41:24.136085Z"
        },
        "code_folding": [],
        "id": "u7J32Vqy4LYx",
        "colab_type": "code",
        "colab": {},
        "outputId": "b5591fac-8995-47f2-f509-f8fcb1dadc57"
      },
      "source": [
        "'''\n",
        "vocab_size,\n",
        "embedding_dim,\n",
        "sentence_max_length,\n",
        "truncation_type\n",
        "'''\n",
        "\n",
        "obj = ReviewClassifier(1000, 16, 120, 'post')\n",
        "imdb, info = obj.dataLoader()\n",
        "train, test = obj.dataSplitter(imdb)\n",
        "training_sentences, training_padded, training_labels_final, testing_sentences, testing_padded, testing_labels_final = obj.dataConverter(\n",
        "    imdb)\n",
        "reverse_word_index = obj.decode_review(training_padded[1])"
      ],
      "execution_count": 0,
      "outputs": [
        {
          "output_type": "stream",
          "text": [
            "WARNING:absl:Warning: Setting shuffle_files=True because split=TRAIN and shuffle_files=None. This behavior will be deprecated on 2019-08-06, at which point shuffle_files=False will be the default for all splits.\n"
          ],
          "name": "stderr"
        }
      ]
    },
    {
      "cell_type": "code",
      "metadata": {
        "ExecuteTime": {
          "end_time": "2020-02-26T12:41:48.065299Z",
          "start_time": "2020-02-26T12:41:48.061652Z"
        },
        "id": "RHAJg7wq4LY6",
        "colab_type": "code",
        "colab": {},
        "outputId": "2f877444-0c65-46d7-e64e-97a4e6b0f219"
      },
      "source": [
        "print(train)\n",
        "print(test)"
      ],
      "execution_count": 0,
      "outputs": [
        {
          "output_type": "stream",
          "text": [
            "<_OptionsDataset shapes: ((), ()), types: (tf.string, tf.int64)>\n"
          ],
          "name": "stdout"
        }
      ]
    },
    {
      "cell_type": "code",
      "metadata": {
        "ExecuteTime": {
          "end_time": "2020-02-26T12:42:49.821421Z",
          "start_time": "2020-02-26T12:41:48.069104Z"
        },
        "code_folding": [
          5
        ],
        "id": "VgAeNo6h4LY-",
        "colab_type": "code",
        "colab": {},
        "outputId": "faafea59-eb63-40b2-9c27-a7a584db53cd"
      },
      "source": [
        "import datetime\n",
        "import tensorflow as tf\n",
        "from keras.models import Sequential\n",
        "from keras.layers import Dense, Embedding, Flatten\n",
        "\n",
        "class MyCustomCallback(tf.keras.callbacks.Callback):\n",
        "    def on_train_batch_begin(self, batch, logs=None):\n",
        "        print('Training: batch {} begins at {}'.format(\n",
        "            batch,\n",
        "            datetime.datetime.now().time()))\n",
        "\n",
        "    def on_train_batch_end(self, batch, logs=None):\n",
        "        print('Training: batch {} ends at {}'.format(\n",
        "            batch,\n",
        "            datetime.datetime.now().time()))\n",
        "\n",
        "    def on_test_batch_begin(self, batch, logs=None):\n",
        "        print('Evaluating: batch {} begins at {}'.format(\n",
        "            batch,\n",
        "            datetime.datetime.now().time()))\n",
        "\n",
        "    def on_test_batch_end(self, batch, logs=None):\n",
        "        print('Evaluating: batch {} ends at {}'.format(\n",
        "            batch,\n",
        "            datetime.datetime.now().time()))\n",
        "\n",
        "    def on_proper_accuracy(self, logs={}):\n",
        "        accuracy = logs.get('accuracy')\n",
        "        if type(logs.get('accuracy')) != None and (accuracy > 0.95):\n",
        "            print(\n",
        "                \"\\n Chances are model learning headaing towards Overfitting\\n\\n\"\n",
        "            )\n",
        "            self.model.stop_training = True\n",
        "\n",
        "class Model_Builder:\n",
        "    def __init__(self):\n",
        "        pass\n",
        "\n",
        "    def model(self, vocab_size, embedding_dim, max_length):\n",
        "        model = Sequential()\n",
        "        model.add(Embedding(vocab_size, embedding_dim,\n",
        "                            input_length=max_length))\n",
        "        model.add(Flatten())\n",
        "        model.add(Dense(6, activation='relu'))\n",
        "        model.add(Dense(1, activation='sigmoid'))\n",
        "        model.compile(loss='binary_crossentropy',\n",
        "                      optimizer='adam',\n",
        "                      metrics=['accuracy'])\n",
        "\n",
        "        model.summary()\n",
        "        return model\n",
        "\n",
        "obj = Model_Builder()\n",
        "callback = MyCustomCallback()\n",
        "model = obj.model(1000, 16, 120)\n",
        "\n",
        "history = model.fit(training_padded,\n",
        "                    training_labels_final,\n",
        "                    epochs=10,\n",
        "                    validation_data=(testing_padded, testing_labels_final),\n",
        "                    verbose=1)"
      ],
      "execution_count": 0,
      "outputs": [
        {
          "output_type": "stream",
          "text": [
            "Using TensorFlow backend.\n"
          ],
          "name": "stderr"
        },
        {
          "output_type": "stream",
          "text": [
            "Model: \"sequential_1\"\n",
            "_________________________________________________________________\n",
            "Layer (type)                 Output Shape              Param #   \n",
            "=================================================================\n",
            "embedding_1 (Embedding)      (None, 120, 16)           16000     \n",
            "_________________________________________________________________\n",
            "flatten_1 (Flatten)          (None, 1920)              0         \n",
            "_________________________________________________________________\n",
            "dense_1 (Dense)              (None, 6)                 11526     \n",
            "_________________________________________________________________\n",
            "dense_2 (Dense)              (None, 1)                 7         \n",
            "=================================================================\n",
            "Total params: 27,533\n",
            "Trainable params: 27,533\n",
            "Non-trainable params: 0\n",
            "_________________________________________________________________\n"
          ],
          "name": "stdout"
        },
        {
          "output_type": "stream",
          "text": [
            "/home/sachin/anaconda3/lib/python3.7/site-packages/tensorflow_core/python/framework/indexed_slices.py:424: UserWarning: Converting sparse IndexedSlices to a dense Tensor of unknown shape. This may consume a large amount of memory.\n",
            "  \"Converting sparse IndexedSlices to a dense Tensor of unknown shape. \"\n"
          ],
          "name": "stderr"
        },
        {
          "output_type": "stream",
          "text": [
            "Train on 25000 samples, validate on 25000 samples\n",
            "Epoch 1/10\n",
            "25000/25000 [==============================] - 6s 244us/step - loss: 0.5307 - accuracy: 0.7148 - val_loss: 0.3927 - val_accuracy: 0.8203\n",
            "Epoch 2/10\n",
            "25000/25000 [==============================] - 5s 203us/step - loss: 0.3893 - accuracy: 0.8244 - val_loss: 0.3948 - val_accuracy: 0.8186\n",
            "Epoch 3/10\n",
            "25000/25000 [==============================] - 6s 231us/step - loss: 0.3326 - accuracy: 0.8569 - val_loss: 0.4144 - val_accuracy: 0.8092\n",
            "Epoch 4/10\n",
            "25000/25000 [==============================] - 7s 286us/step - loss: 0.2681 - accuracy: 0.8936 - val_loss: 0.4647 - val_accuracy: 0.7947\n",
            "Epoch 5/10\n",
            "25000/25000 [==============================] - 6s 249us/step - loss: 0.2085 - accuracy: 0.9237 - val_loss: 0.5438 - val_accuracy: 0.7835\n",
            "Epoch 6/10\n",
            "25000/25000 [==============================] - 6s 236us/step - loss: 0.1585 - accuracy: 0.9451 - val_loss: 0.6286 - val_accuracy: 0.7768\n",
            "Epoch 7/10\n",
            "25000/25000 [==============================] - 6s 235us/step - loss: 0.1165 - accuracy: 0.9631 - val_loss: 0.7425 - val_accuracy: 0.7721\n",
            "Epoch 8/10\n",
            "25000/25000 [==============================] - 6s 232us/step - loss: 0.0819 - accuracy: 0.9767 - val_loss: 0.8734 - val_accuracy: 0.7622\n",
            "Epoch 9/10\n",
            "25000/25000 [==============================] - 6s 232us/step - loss: 0.0565 - accuracy: 0.9858 - val_loss: 1.0068 - val_accuracy: 0.7662\n",
            "Epoch 10/10\n",
            "25000/25000 [==============================] - 7s 286us/step - loss: 0.0389 - accuracy: 0.9903 - val_loss: 1.1590 - val_accuracy: 0.7604\n"
          ],
          "name": "stdout"
        }
      ]
    },
    {
      "cell_type": "code",
      "metadata": {
        "ExecuteTime": {
          "end_time": "2020-02-26T12:43:00.335460Z",
          "start_time": "2020-02-26T12:43:00.074170Z"
        },
        "id": "-APtvC2N4LZD",
        "colab_type": "code",
        "colab": {},
        "outputId": "ee3e7e19-8166-4508-995f-4871c26661ea"
      },
      "source": [
        "import matplotlib.pyplot as plt\n",
        "accuracy = history.history['accuracy']\n",
        "val_accuracy = history.history['val_accuracy']\n",
        "\n",
        "epochs = range(len(accuracy))\n",
        "\n",
        "plt.figure(figsize=(17,12))\n",
        "plt.plot(epochs, accuracy, 'r', label='Training Accuracy')\n",
        "plt.plot(epochs, val_accuracy, 'b', label='Validation Accuracy')\n",
        "plt.title('Training and validation accuracy')\n",
        "plt.xlabel('Epochs')\n",
        "plt.ylabel('Accuracy')\n",
        "plt.legend(loc=0)\n",
        "plt.grid()\n",
        "plt.show()"
      ],
      "execution_count": 0,
      "outputs": [
        {
          "output_type": "display_data",
          "data": {
            "image/png": "[encoded data removed]",
            "text/plain": [
              "<Figure size 1224x864 with 1 Axes>"
            ]
          },
          "metadata": {
            "tags": [],
            "needs_background": "light"
          }
        }
      ]
    },
    {
      "cell_type": "code",
      "metadata": {
        "ExecuteTime": {
          "end_time": "2020-02-26T12:42:50.504532Z",
          "start_time": "2020-02-26T12:42:50.074523Z"
        },
        "id": "jQd3MAdF4LZJ",
        "colab_type": "code",
        "colab": {},
        "outputId": "04b7fb82-78d2-4405-fab3-02381d482669"
      },
      "source": [
        "import matplotlib.pyplot as plt\n",
        "loss = history.history['loss']\n",
        "val_loss = history.history['val_loss']\n",
        "\n",
        "epochs = range(len(loss))\n",
        "plt.figure(figsize=(17,12))\n",
        "plt.plot(epochs, loss, 'r', label='Training Loss')\n",
        "plt.plot(epochs, val_loss, 'b', label='Validation Loss')\n",
        "plt.title('Training and validation loss')\n",
        "plt.xlabel('Epochs')\n",
        "plt.ylabel('Loss')\n",
        "plt.legend(loc=0)\n",
        "plt.grid()\n",
        "plt.show()"
      ],
      "execution_count": 0,
      "outputs": [
        {
          "output_type": "display_data",
          "data": {
            "image/png": "[encoded data removed]",
            "text/plain": [
              "<Figure size 1224x864 with 1 Axes>"
            ]
          },
          "metadata": {
            "tags": [],
            "needs_background": "light"
          }
        }
      ]
    },
    {
      "cell_type": "code",
      "metadata": {
        "ExecuteTime": {
          "end_time": "2020-02-26T12:42:50.536324Z",
          "start_time": "2020-02-26T12:42:50.506278Z"
        },
        "code_folding": [],
        "id": "s0SiCe4T4LZN",
        "colab_type": "code",
        "colab": {},
        "outputId": "7b19427f-c87c-4a85-d2b4-83edfad0d502"
      },
      "source": [
        "## Model Overfitted\n",
        "#Model.layers[0] means layer zero and it contains the embedding information\n",
        "#Let's fetch it and have a look\n",
        "e = model.layers[0]\n",
        "weights = e.get_weights()[0]\n",
        "\n",
        "print(weights.shape)\n",
        "\n",
        "#Let's save the embedding metadatas so that we can later visualize the embeddings \n",
        "import io\n",
        "reverse_word_index = reverse_word_index[1]\n",
        "out_v = io.open('vecs.tsv', 'w', encoding='utf-8')\n",
        "out_m = io.open('meta.tsv', 'w', encoding='utf-8')\n",
        "for word_num in range(1, 1000):\n",
        "    word = reverse_word_index[word_num]\n",
        "    embeddings = weights[word_num]\n",
        "    out_m.write(word + \"\\n\")\n",
        "    out_v.write('\\t'.join([str(x) for x in embeddings]) + \"\\n\")\n",
        "out_v.close()\n",
        "out_m.close()"
      ],
      "execution_count": 0,
      "outputs": [
        {
          "output_type": "stream",
          "text": [
            "(1000, 16)\n"
          ],
          "name": "stdout"
        }
      ]
    },
    {
      "cell_type": "markdown",
      "metadata": {
        "id": "V1Rgldhz4LZR",
        "colab_type": "text"
      },
      "source": [
        "As it is visible, after training to 10 epochs the validation loss seems to be on sky high flight, There must be some tweaks to control this behavior during learning process as it is clear sign of over fitting. Both Training and validation loss must be moving towards minimal values and we can tolerate at some trade off between them.<br>\n",
        "Let's change some hyper parameters to tackle this."
      ]
    },
    {
      "cell_type": "markdown",
      "metadata": {
        "id": "OKyh_hJv4LZT",
        "colab_type": "text"
      },
      "source": [
        "# PART - 3"
      ]
    },
    {
      "cell_type": "markdown",
      "metadata": {
        "id": "bEEFJhqB4LZV",
        "colab_type": "text"
      },
      "source": [
        "**Let's Work on Sarcasm dataset**"
      ]
    },
    {
      "cell_type": "markdown",
      "metadata": {
        "id": "CoXLs_Z84LZa",
        "colab_type": "text"
      },
      "source": [
        "#Sarcasm data download\n",
        "!wget --no-check-certificate \\\n",
        "    https://storage.googleapis.com/laurencemoroney-blog.appspot.com/sarcasm.json \\-O /tmp/sarcasm.json"
      ]
    },
    {
      "cell_type": "code",
      "metadata": {
        "ExecuteTime": {
          "end_time": "2020-02-26T13:26:22.114092Z",
          "start_time": "2020-02-26T13:26:22.059292Z"
        },
        "code_folding": [
          8,
          18,
          31
        ],
        "id": "7F46EFvH4LZb",
        "colab_type": "code",
        "colab": {}
      },
      "source": [
        "import json\n",
        "import tensorflow as tf\n",
        "\n",
        "from tensorflow.keras.preprocessing.text import Tokenizer\n",
        "from tensorflow.keras.preprocessing.sequence import pad_sequences\n",
        "\n",
        "\n",
        "class Sarcasm_Classifier:\n",
        "    def __init__(self):\n",
        "        self.vocab_size = 100000\n",
        "        self.embedding_dim = 16\n",
        "        self.max_length = 32\n",
        "        self.trunc_type = 'post'\n",
        "        self.padding_type = 'post'\n",
        "        self.oov_tok = \"<OOV>\"\n",
        "        self.training_size = 13354\n",
        "        self.testing_size = 13354\n",
        "        self.word_index = 0\n",
        "\n",
        "    def data_colector(self):\n",
        "        sentences = []\n",
        "        lablels = []\n",
        "        tuplet = []\n",
        "        with open(\"/tmp/sarcasm.json\", 'r') as f:\n",
        "            datastore = json.load(f)\n",
        "\n",
        "            for item in datastore:\n",
        "                sentences.append(item['headline'])\n",
        "                lablels.append(item['is_sarcastic'])\n",
        "                tuplet.append((item['headline'], item['is_sarcastic']))\n",
        "        return sentences, lablels, tuplet\n",
        "\n",
        "    def data_renderer(self, tuplet):\n",
        "        count = 1\n",
        "        for i in tuplet:\n",
        "            print(\"Article-\" + str(count) + \":\" + i[0] + \"----->>>>>  \" +\n",
        "                  str(i[1]))\n",
        "            count += 1\n",
        "\n",
        "    def data_splitor(self, sentences, lables):\n",
        "        tokenizer = Tokenizer()\n",
        "        training_sentences = sentences[:self.training_size]\n",
        "        tokenizer.fit_on_texts(training_sentences)\n",
        "        self.word_index = tokenizer.word_index\n",
        "        training_sequences = tokenizer.texts_to_sequences(training_sentences)\n",
        "        training_padded = pad_sequences(training_sequences,\n",
        "                                        maxlen=self.max_length,\n",
        "                                        truncating=self.trunc_type)\n",
        "        training_labels = lables[:self.training_size]\n",
        "        training_labels_final = np.array(training_labels)\n",
        "        training_labels_final = training_labels_final.astype(np.float)\n",
        "\n",
        "        \n",
        "        \n",
        "        testing_sentences = sentences[self.testing_size:]\n",
        "        tokenizer.fit_on_texts(testing_sentences)\n",
        "        testing_sequences = tokenizer.texts_to_sequences(testing_sentences)\n",
        "        testing_padded = pad_sequences(testing_sequences,\n",
        "                                       maxlen=self.max_length,\n",
        "                                       truncating=self.trunc_type)\n",
        "        testing_labels = lables[self.testing_size:]\n",
        "        testing_labels_final = np.array(testing_labels)\n",
        "        testing_labels_final = testing_labels_final.astype(np.float)\n",
        "        \n",
        "        return training_padded, training_labels_final, testing_padded, testing_labels_final\n",
        "\n",
        "    def modeler(self):\n",
        "        model = Sequential()\n",
        "        model.add(\n",
        "            Embedding(self.vocab_size,\n",
        "                      self.embedding_dim,\n",
        "                      input_length=self.max_length))\n",
        "        model.add(Flatten())\n",
        "        model.add(Dense(6, activation='relu'))\n",
        "        model.add(Dense(1, activation='sigmoid'))\n",
        "        model.compile(loss='binary_crossentropy',\n",
        "                      optimizer='adam',\n",
        "                      metrics=['accuracy'])\n",
        "        model.summary()\n",
        "        return model"
      ],
      "execution_count": 0,
      "outputs": []
    },
    {
      "cell_type": "code",
      "metadata": {
        "ExecuteTime": {
          "end_time": "2020-02-26T13:26:27.262413Z",
          "start_time": "2020-02-26T13:26:25.997313Z"
        },
        "scrolled": true,
        "id": "7gyqDP-G4LZh",
        "colab_type": "code",
        "colab": {}
      },
      "source": [
        "obj = Sarcasm_Classifier()\n",
        "sentences,lables, tuplet = obj.data_colector()\n",
        "training_padded,training_labels,testing_padded,testing_labels = obj.data_splitor(sentences,lables)\n",
        "model = obj.modeler()\n",
        "history = model.fit(training_padded,\n",
        "                    training_labels,\n",
        "                    epochs=5,\n",
        "                    batch_size = 100,\n",
        "                    validation_data=(testing_padded, testing_labels),\n",
        "                    verbose=1)"
      ],
      "execution_count": 0,
      "outputs": []
    },
    {
      "cell_type": "code",
      "metadata": {
        "ExecuteTime": {
          "end_time": "2020-02-26T13:29:18.088745Z",
          "start_time": "2020-02-26T13:29:17.750143Z"
        },
        "id": "dGp-PEW54LZn",
        "colab_type": "code",
        "colab": {},
        "outputId": "ad36f18c-1808-40c8-92eb-25a78b4c7cb4"
      },
      "source": [
        "import matplotlib.pyplot as plt\n",
        "accuracy = history.history['accuracy']\n",
        "val_accuracy = history.history['val_accuracy']\n",
        "\n",
        "epochs = range(len(accuracy))\n",
        "plt.figure(figsize=(17,12))\n",
        "plt.plot(epochs, accuracy, 'r', label='Training accuracy')\n",
        "plt.plot(epochs, val_accuracy, 'b', label='Validation accuracy')\n",
        "plt.title('Training and validation accuracy')\n",
        "plt.xlabel('Epochs')\n",
        "plt.ylabel('accuracy')\n",
        "plt.legend(loc=0)\n",
        "plt.grid()\n",
        "plt.show()"
      ],
      "execution_count": 0,
      "outputs": [
        {
          "output_type": "display_data",
          "data": {
            "image/png": "[encoded data removed]",
            "text/plain": [
              "<Figure size 1224x864 with 1 Axes>"
            ]
          },
          "metadata": {
            "tags": [],
            "needs_background": "light"
          }
        }
      ]
    },
    {
      "cell_type": "code",
      "metadata": {
        "ExecuteTime": {
          "end_time": "2020-02-26T13:29:25.887568Z",
          "start_time": "2020-02-26T13:29:25.605030Z"
        },
        "id": "3Vnm0AEm4LZt",
        "colab_type": "code",
        "colab": {},
        "outputId": "7e12c82d-b504-419c-f1d7-0cfe91a56a9c"
      },
      "source": [
        "import matplotlib.pyplot as plt\n",
        "loss = history.history['loss']\n",
        "val_loss = history.history['val_loss']\n",
        "\n",
        "epochs = range(len(loss))\n",
        "plt.figure(figsize=(17,12))\n",
        "plt.plot(epochs, loss, 'r', label='Training Loss')\n",
        "plt.plot(epochs, val_loss, 'b', label='Validation Loss')\n",
        "plt.title('Training and validation loss')\n",
        "plt.xlabel('Epochs')\n",
        "plt.ylabel('Loss')\n",
        "plt.legend(loc=0)\n",
        "plt.grid()\n",
        "plt.show()"
      ],
      "execution_count": 0,
      "outputs": [
        {
          "output_type": "display_data",
          "data": {
            "image/png": "[encoded data removed]",
            "text/plain": [
              "<Figure size 1224x864 with 1 Axes>"
            ]
          },
          "metadata": {
            "tags": [],
            "needs_background": "light"
          }
        }
      ]
    }
  ]
}