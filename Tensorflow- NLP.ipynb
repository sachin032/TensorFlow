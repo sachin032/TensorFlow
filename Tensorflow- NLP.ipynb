{
 "cells": [
  {
   "cell_type": "code",
   "execution_count": 8,
   "metadata": {
    "ExecuteTime": {
     "end_time": "2020-02-10T05:33:43.017526Z",
     "start_time": "2020-02-10T05:33:43.003643Z"
    }
   },
   "outputs": [],
   "source": [
    "import tensorflow as tf\n",
    "import keras\n",
    "\n",
    "from tensorflow.keras.preprocessing.text import Tokenizer"
   ]
  },
  {
   "cell_type": "code",
   "execution_count": 5,
   "metadata": {
    "ExecuteTime": {
     "end_time": "2020-02-10T05:32:36.879682Z",
     "start_time": "2020-02-10T05:32:36.857031Z"
    }
   },
   "outputs": [],
   "source": [
    "# Word based encodings\n",
    "str1 = \"LISTEN\"\n",
    "str2 = \"SILENT\"\n",
    "\n",
    "ASCII_1 = []\n",
    "ASCII_2 = []\n",
    "\n",
    "for i in str1:\n",
    "    ASCII_1.append(ord(i))\n",
    "\n",
    "for i in str2:\n",
    "    ASCII_2.append(ord(i))"
   ]
  },
  {
   "cell_type": "code",
   "execution_count": 6,
   "metadata": {
    "ExecuteTime": {
     "end_time": "2020-02-10T05:32:38.716398Z",
     "start_time": "2020-02-10T05:32:38.711346Z"
    },
    "collapsed": true
   },
   "outputs": [
    {
     "name": "stdout",
     "output_type": "stream",
     "text": [
      "[76, 73, 83, 84, 69, 78]\n",
      "[83, 73, 76, 69, 78, 84]\n"
     ]
    }
   ],
   "source": [
    "print(ASCII_1)\n",
    "print(ASCII_2)"
   ]
  },
  {
   "cell_type": "code",
   "execution_count": 22,
   "metadata": {
    "ExecuteTime": {
     "end_time": "2020-02-10T05:44:40.933620Z",
     "start_time": "2020-02-10T05:44:40.851247Z"
    },
    "collapsed": true
   },
   "outputs": [
    {
     "name": "stdout",
     "output_type": "stream",
     "text": [
      "{'clear': 1, 'cd': 2, 'll': 3, 'git': 4, 'ls': 5, 'sudo': 6, 'status': 7, 'add': 8, 'ps': 9, 'grep': 10, 'hadoop': 11, 'install': 12, 'ef': 13, 'sachin': 14, 'home': 15, 'sh': 16, 'data': 17, '9200': 18, 'src': 19, 'elasticsearch': 20, 'bin': 21, 'jps': 22, 'curl': 23, 'h': 24, 'source': 25, 'commit': 26, 'push': 27, 'json': 28, \"pretty'\": 29, \"'content\": 30, 'type': 31, 'application': 32, \"json'\": 33, 'logs': 34, \"'localhost\": 35, 'platformsvc': 36, 'xput': 37, 'binary': 38, 'path': 39, 'configmanager': 40, 'main': 41, 'resources': 42, 'mappings': 43, 'consolidated': 44, 'dataobject': 45, 'mapping': 46, 'index': 47, 'alias': 48, 'downloads': 49, 'apt': 50, 'code': 51, 'rm': 52, 'tmp': 53, 'com': 54, 'pwd': 55, 'conda': 56, 'exit': 57, 'opt': 58, '2': 59, 'tensorflow': 60, 'rf': 61, 'nohup': 62, 'm': 63, 'book': 64, 'https': 65, 'or': 66, 'personal': 67, '4': 68, 'dataplatform': 69, 'indices': 70, 'creation': 71, 'ipython': 72, 'desktop': 73, 'am': 74, 'pull': 75, 'bashrc': 76, '5': 77, 'adding': 78, 'to': 79, 'github': 80, '7': 81, '8': 82, 'update': 83, 'clone': 84, 'plugin': 85, 'ltr': 86, 'ssh': 87, 'setup': 88, 'mapper': 89, 'size': 90, 'tar': 91, 'scallars': 92, 'mkdir': 93, 'd': 94, 'get': 95, 'kill': 96, 'clea': 97, 'cat': 98, 'chmod': 99, 'tensorboard': 100, 'logdir': 101, 'vim': 102, 'script': 103, 'c': 104, 'python': 105, 'riversand': 106, 'tomcat': 107, 'sachin032': 108, 'etc': 109, '9': 110, '777': 111, 'htop': 112, 'gensim': 113, 'autoencoders': 114, 'gz': 115, 'locate': 116, 'less': 117, 'old': 118, 'ml': 119, 'forge': 120, 'repository': 121, '0': 122, 'java': 123, 'zip': 124, 'media': 125, 'su': 126, 'pyspark': 127, 'happy': 128, 'keras': 129, 'end': 130, 'horse': 131, 'human': 132, 'anaconda': 133, \"'\": 134, 't1entityindex': 135, 'spark': 136, 'repo': 137, 'pgm': 138, 'jupyter': 139, 'contrib': 140, 'py': 141, 'anaconda3': 142, 'match': 143, 'checkout': 144, 'log': 145, 'remote': 146, 'solution': 147, 'config': 148, 'rclear': 149, 'l': 150, 'sad': 151, 's': 152, 'nltk': 153, 'key': 154, 'of': 155, 'branch': 156, 'mvn': 157, 'which': 158, 'entity': 159, 'v2': 160, 'rdpclean': 161, 'localhost': 162, 'dataplatformeventindex': 163, 'dataplatformindex': 164, 'openvpn': 165, 'client': 166, 'certificate': 167, 'cp': 168, 'tunlp': 169, 'hadoop2': 170, 'pip': 171, 'import': 172, 'ipynb': 173, 'model': 174, 'mv': 175, 'pipeline': 176, 'horses': 177, 'augmentation': 178, 'transfer': 179, 'learning': 180, 'download': 181, 'fix': 182, 'upstream': 183, 'sachinmishra032': 184, 'v': 185, 'dev': 186, 't1entitymanageeventindex': 187, 't1entitygovernindex': 188, 't1entitygoverneventindex': 189, 't1entitymanagemodelindex': 190, 't1entitymanagemodeleventindex': 191, 't1eventindex': 192, 't1genericobjectindex': 193, 't1requestobjectindex': 194, 't1notificationindex': 195, 'ovpn': 196, 'upgrade': 197, 'netstat': 198, 'adduser': 199, 'usr': 200, 'sudoers': 201, 'files': 202, 'from': 203, 'petimages': 204, 'azure': 205, 'pem': 206, 'nbextensions': 207, 'init': 208, 'wordcloud': 209, 'wget': 210, 'sublimetext': 211, 'pub': 212, 'echo': 213, 'list': 214, 'test': 215, 'b': 216, 'ppa': 217, 'clar': 218, 'clean': 219, 'a': 220, 'utility': 221, 'target': 222, 'classes': 223, 'xdelete': 224, 'http': 225, 'xpost': 226, 'aliases': 227, 'actions': 228, 'v8': 229, 't1configurationindex': 230, 'remove': 231, 'r': 232, 'rs': 233, 'mac': 234, 'os': 235, 'documents': 236, '38c1': 237, '7230': 238, 'umount': 239, 'rsa': 240, 'env': 241, 'out': 242, '3': 243, 'future': 244, 'scalars': 245, 'pycharm': 246, 'csv': 247, 'natural': 248, 'language': 249, 'processing': 250, 'and': 251, 'google': 252, 'images': 253, 'chrome': 254, 'nbextension': 255, 'tf': 256, 'new': 257, 'file': 258, 'state': 259, 'kazam': 260, 'regarding': 261, 'missing': 262, 'mdmanalytics': 263, 'all': 264, 'label': 265, 'non': 266, 'stopwords': 267, 'p': 268, 'inflect': 269, 'qo': 270, 'sublimehq': 271, 'gpg': 272, 'sublime': 273, 'text': 274, 'service': 275, 'matchservicetestfix': 276, 'temp': 277, 'set': 278, 'indicator': 279, 'stickynotes': 280, 'cleanup': 281, 'subl': 282, 'dataplatformreadindex': 283, 't1entityreadindex': 284, '8583': 285, '340': 286, 'manager': 287, 'do': 288, 'release': 289, 'tree': 290, 'per': 291, 'alternatives': 292, 'display': 293, 'openssh': 294, 'keygen': 295, 't': 296, 'xvzf': 297, 'xzvf': 298, 'whoami': 299, 'u': 300, '0440': 301, '8889': 302, 'notebook': 303, 'df': 304, 'win10': 305, 'x64': 306, '6in1': 307, 'm6': 308, 'jan2016': 309, 'dd': 310, 'bs': 311, '4m': 312, 'if': 313, 'big': 314, 'ubuntu': 315, '18': 316, '04': 317, 'amd64': 318, 'sdx': 319, 'progress': 320, 'oflag': 321, 'sync': 322, 'no': 323, 'check': 324, 'storage': 325, 'googleapis': 326, 'laurencemoroney': 327, 'blog': 328, 'appspot': 329, 'lib': 330, 'python3': 331, 'site': 332, 'packages': 333, 'core': 334, 'tmp2': 335, 'datetime': 336, 'deleting': 337, 'unwanted': 338, 'cls': 339, 'community': 340, '2019': 341, 'mdm': 342, 'deployment': 343, 'h5': 344, 'training': 345, 'sta': 346, 'examples': 347, 'on': 348, 'humans': 349, 'eval': 350, 'agent': 351, 'updating': 352, 'noitebook': 353, 'cats': 354, 'dogs': 355, 'master': 356, 'restored': 357, 'compile': 358, 'next': 359, 'version': 360, 'modification': 361, 'structured': 362, 'ini': 363, 'flaskrepo': 364, 'tests': 365, 'venv': 366, 'touch': 367, 'manifest': 368, 'in': 369, 'frontcontroller': 370, 'shampoo': 371, 'downloader': 372, 'gcc7': 373, 'cf201901': 374, 'deb': 375, 'stable': 376, 'tee': 377, 'sources': 378, 'ankurankan': 379, 'pgmpy': 380, '3582': 381, '10220': 382, '10323': 383, '10883': 384, '12858': 385, '15462': 386, '18449': 387, '18463': 388, 'temporary': 389, 'ignore': 390, 'the': 391, 'cases': 392, 'case': 393, 'brabch': 394, 'origin': 395, 'umang': 396, 'analytics': 397, 'elastic': 398, '16273': 399, '15718': 400, '16888': 401, '16201': 402, '15774': 403, '16127': 404, '14591': 405, 'induction': 406, 'searchparsertest': 407, 'setcontextobjects': 408, 'expected': 409, 'swp': 410, '17406': 411, '18097': 412, '17507': 413, '26855': 414, '17448': 415, '31705': 416, '26858': 417, '17899': 418, '17997': 419, '21023': 420, 'down': 421, 'priyanks': 422, \"'http\": 423, 'dataplatformwriteindex': 424, 'dataplatformeventreadindex': 425, 'dataplatformeventwriteindex': 426, 't1entitywriteindex': 427, 't1entitymanageeventreadindex': 428, 't1entitymanageeventwriteindex': 429, 't1eventreadindex': 430, 't1eventwriteindex': 431, 't1entitymanagemodelreadindex': 432, 't1entitymanagemodelwriteindex': 433, 't1entitymanagemodeleventreadindex': 434, 't1entitymanagemodeleventwriteindex': 435, 't1entitygovernreadindex': 436, 't1entitygovernwriteindex': 437, 't1entitygoverneventreadindex': 438, 't1entitygoverneventwriteindex': 439, 't1genericobjectreadindex': 440, 't1genericobjectwriteindex': 441, 't1requestobjectreadindex': 442, 't1requestobjectwriteindex': 443, 't1notificationreadindex': 444, 't1notificationwriteindex': 445, 't1configurationreadindex': 446, 't1configurationwriteindex': 447, '4274': 448, '32145': 449, '5331': 450, '6972': 451, '7975': 452, 'levenshtein': 453, '16676': 454, '19520': 455, '32646': 456, '5831': 457, '32711': 458, '17994': 459, '7468': 460, '4782': 461, '16175': 462, '19088': 463, '17907': 464, '18998': 465, '16759': 466, '19640': 467, '8888': 468, '19513': 469, '32185': 470, '9114': 471, '5917': 472, '7550': 473, '32255': 474, '4863': 475, 'unzip': 476, 'vpn': 477, 'crsslconfig': 478, 'tblk': 479, 'tax': 480, 'related': 481, 'cs': 482, 'gnome': 483, 'disk': 484, 'gezakovacs': 485, 'unetbootin': 486, 'ntestat': 487, 'y': 488, 'kibana': 489, 'lonavala': 490, 'atr': 491, 'user': 492, 'who': 493, 'javac': 494, 'server': 495, 'id': 496, 'authorized': 497, 'keys': 498, 'ar': 499, 'suco': 500, 'start': 501, 'build': 502, 'hadoo': 503, 'zsh': 504, 'nav': 505, 'navigator': 506, 'bash': 507, 'py4j': 508, '9516': 509, 'shell': 510, 'noteboo': 511, '8573': 512, '8018': 513, 'lt': 514, 'tail': 515, 'f': 516, 'grp': 517, 'public': 518, 'videos': 519, \"'big\": 520, \"files'\": 521, 'cledar': 522, 'unmount': 523, 'iso': 524, \"iso'\": 525, 'cleaer': 526, 'pycache': 527, 'tools': 528, 'common': 529, 'util': 530, 'absolute': 531, 'division': 532, 'print': 533, 'function': 534, 'h1': 535, 'jpeg': 536, 'image': 537, 'augumentation': 538, 'conflict': 539, 'resolution': 540, '20200203': 541, '112643': 542, 'train': 543, 'ccd': 544, 'lo': 545, 'datasets': 546, 'fashion': 547, 'mnist': 548, 'calear': 549, 'tocat': 550, 'dog': 551, 'sc': 552, 'm2': 553, 'loan': 554, 'testing': 555, 'v1': 556, 'pk': 557, 'addd': 558, 'kaggle': 559, 'basic': 560, 'feature': 561, 'engineering': 562, 'nlp': 563, 'preprocessing': 564, \"'git\": 565, 'inital': 566, 'projects': 567, 'hands': 568, 'my': 569, 'graph': 570, 'statistics': 571, 'o': 572, 'validation': 573, 'sl': 574, \"'ssh\": 575, 'nano': 576, '400': 577, 'mishra': 578, '168': 579, '62': 580, '171': 581, '10': 582, '50000': 583, 'bc3p1u': 584, 'fileupload': 585, 'colab': 586, 'yapf': 587, 'specialization': 588, 'multiclass': 589, 'classsifcation': 590, 'reset': 591, 'hard': 592, 'count': 593, 'history': 594, 'commiting': 595, 'work': 596, 'done': 597, 'local': 598, 'c00d9925f5cfd1c93df28609fa88d7f0766a17df': 599, 'merge': 600, 'resored': 601, 'pers': 602, 'changes': 603, 'clerar': 604, 'diff': 605, '15': 606, '6l': 607, 'bigdata': 608, 'logs20200205': 609, '164408': 610, 'intsall': 611, 'codes': 612, 'for': 613, 'exercises': 614, 'restructuring': 615, 'dropout': 616, 'layers': 617, 'removing': 618, 'organized': 619, 'moving': 620, 'directory': 621, 'format': 622, 'restructing': 623, 'music': 624, 'try': 625, 'with': 626, 'op': 627}\n"
     ]
    }
   ],
   "source": [
    "#Tokenizing the corpus using Keras Tokenizer\n",
    "l = list()\n",
    "with open(\"/home/sachin/.bash_history\", 'r') as f:\n",
    "    l = f.readlines()\n",
    "\n",
    "corpus_list = []\n",
    "for i in l:\n",
    "    corpus_list.append(i)\n",
    "\n",
    "tokenizer = Tokenizer(num_words=10000000)\n",
    "tokenizer.fit_on_texts(corpus_list)\n",
    "word_index = tokenizer.word_index\n",
    "print(word_index)"
   ]
  },
  {
   "cell_type": "code",
   "execution_count": 44,
   "metadata": {
    "ExecuteTime": {
     "end_time": "2020-02-10T05:47:02.850202Z",
     "start_time": "2020-02-10T05:47:02.841592Z"
    },
    "collapsed": true
   },
   "outputs": [
    {
     "name": "stdout",
     "output_type": "stream",
     "text": [
      "{'i': 1, 'love': 2, 'my': 3, 'dog': 4}\n"
     ]
    }
   ],
   "source": [
    "sentence = [\"I love my Dog\", \"I love my Dog!\"]\n",
    "tokenizer = Tokenizer(num_words=100)\n",
    "tokenizer.fit_on_texts(sentence)\n",
    "word_index = tokenizer.word_index\n",
    "print(word_index)"
   ]
  },
  {
   "cell_type": "code",
   "execution_count": 47,
   "metadata": {
    "ExecuteTime": {
     "end_time": "2020-02-10T05:50:45.188175Z",
     "start_time": "2020-02-10T05:50:45.165839Z"
    },
    "collapsed": true
   },
   "outputs": [
    {
     "name": "stdout",
     "output_type": "stream",
     "text": [
      "{'love': 1, 'my': 2, 'i': 3, 'dog': 4, 'cat': 5, 'you': 6}\n"
     ]
    }
   ],
   "source": [
    "sentence = [\"I love my Dog\", \"i love my cat\", \"You love my DOG!\"]\n",
    "tokenizer = Tokenizer(num_words=100)\n",
    "tokenizer.fit_on_texts(sentence)\n",
    "word_index = tokenizer.word_index\n",
    "print(word_index)"
   ]
  }
 ],
 "metadata": {
  "kernelspec": {
   "display_name": "Python 3",
   "language": "python",
   "name": "python3"
  },
  "language_info": {
   "codemirror_mode": {
    "name": "ipython",
    "version": 3
   },
   "file_extension": ".py",
   "mimetype": "text/x-python",
   "name": "python",
   "nbconvert_exporter": "python",
   "pygments_lexer": "ipython3",
   "version": "3.7.4"
  },
  "toc": {
   "base_numbering": 1,
   "nav_menu": {},
   "number_sections": true,
   "sideBar": true,
   "skip_h1_title": false,
   "title_cell": "Table of Contents",
   "title_sidebar": "Contents",
   "toc_cell": false,
   "toc_position": {},
   "toc_section_display": true,
   "toc_window_display": false
  },
  "varInspector": {
   "cols": {
    "lenName": 16,
    "lenType": 16,
    "lenVar": 40
   },
   "kernels_config": {
    "python": {
     "delete_cmd_postfix": "",
     "delete_cmd_prefix": "del ",
     "library": "var_list.py",
     "varRefreshCmd": "print(var_dic_list())"
    },
    "r": {
     "delete_cmd_postfix": ") ",
     "delete_cmd_prefix": "rm(",
     "library": "var_list.r",
     "varRefreshCmd": "cat(var_dic_list()) "
    }
   },
   "types_to_exclude": [
    "module",
    "function",
    "builtin_function_or_method",
    "instance",
    "_Feature"
   ],
   "window_display": false
  }
 },
 "nbformat": 4,
 "nbformat_minor": 2
}
