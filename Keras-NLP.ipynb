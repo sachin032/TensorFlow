{
 "cells": [
  {
   "cell_type": "code",
   "execution_count": 51,
   "metadata": {
    "ExecuteTime": {
     "end_time": "2020-02-03T09:05:26.127322Z",
     "start_time": "2020-02-03T09:05:26.123460Z"
    }
   },
   "outputs": [],
   "source": [
    "from tensorflow.keras.preprocessing.text import Tokenizer\n",
    "from tensorflow.keras.preprocessing.text import text_to_word_sequence\n",
    "from tensorflow.keras.preprocessing.text import hashing_trick\n",
    "from tensorflow.keras.preprocessing.text import one_hot\n",
    "\n",
    "tokenizer = Tokenizer(num_words =  100)"
   ]
  },
  {
   "cell_type": "code",
   "execution_count": 59,
   "metadata": {
    "ExecuteTime": {
     "end_time": "2020-02-03T09:17:15.199345Z",
     "start_time": "2020-02-03T09:17:15.192711Z"
    }
   },
   "outputs": [],
   "source": [
    "import os\n",
    "path = os.getcwd()\n",
    "l = list()\n",
    "sequence =None\n",
    "with open(path+\"/test.txt\") as f:\n",
    "    sequence = text_to_word_sequence(f.read())\n",
    "    for line in f.readlines():\n",
    "        line = line.replace('\\n','')\n",
    "        if  line != '':\n",
    "            l.append(line)"
   ]
  },
  {
   "cell_type": "code",
   "execution_count": 61,
   "metadata": {
    "ExecuteTime": {
     "end_time": "2020-02-03T09:17:28.429600Z",
     "start_time": "2020-02-03T09:17:28.419371Z"
    }
   },
   "outputs": [
    {
     "data": {
      "text/plain": [
       "856"
      ]
     },
     "execution_count": 61,
     "metadata": {},
     "output_type": "execute_result"
    }
   ],
   "source": [
    "len(sequence)"
   ]
  },
  {
   "cell_type": "code",
   "execution_count": 63,
   "metadata": {
    "ExecuteTime": {
     "end_time": "2020-02-03T09:18:13.407002Z",
     "start_time": "2020-02-03T09:18:13.389769Z"
    }
   },
   "outputs": [
    {
     "data": {
      "text/plain": [
       "403"
      ]
     },
     "execution_count": 63,
     "metadata": {},
     "output_type": "execute_result"
    }
   ],
   "source": [
    "len(set(sequence))"
   ]
  },
  {
   "cell_type": "markdown",
   "metadata": {},
   "source": [
    "**Tokenize the corpus**"
   ]
  },
  {
   "cell_type": "code",
   "execution_count": 44,
   "metadata": {
    "ExecuteTime": {
     "end_time": "2020-02-03T08:39:11.759951Z",
     "start_time": "2020-02-03T08:39:11.750755Z"
    }
   },
   "outputs": [
    {
     "name": "stdout",
     "output_type": "stream",
     "text": [
      "{'the': 1, 'is': 2, 'of': 3, 'and': 4, 'to': 5, 'in': 6, 'it': 7, 'that': 8, 'more': 9, 'about': 10, 'a': 11, 'how': 12, 'will': 13, 'coronavirus': 14, 'pandemic': 15, 'have': 16, 'be': 17, 'wuhan': 18, 'cases': 19, 'been': 20, 'are': 21, 'or': 22, 'but': 23, '”': 24, 'as': 25, 'flu': 26, 'for': 27, 'china': 28, 'now': 29, 'there': 30, 'than': 31, 'said': 32, 's': 33, 'who': 34, 'from': 35, 'likely': 36, 'many': 37, 'an': 38, 'scientists': 39, 'not': 40, 'much': 41, 'like': 42, 'sars': 43, 'mers': 44, 'has': 45, 'at': 46, '2': 47, 'whether': 48, 'can': 49, 'percent': 50, 'virus': 51, 'u': 52, 'spreading': 53, 'infectious': 54, 'disease': 55, 'experts': 56, '—': 57, 'other': 58, 'know': 59, 'transmitted': 60, 'influenza': 61, 'highly': 62, 'transmissible': 63, 'dr': 64, 'confirmed': 65, '000': 66, 'what': 67, 'when': 68, 'only': 69, '2020': 70, 'people': 71, 'killed': 72, '1918': 73, 'may': 74, 'by': 75, 'countries': 76, 'united': 77, 'do': 78, 'so': 79, 'uncertainty': 80, 'pathogen': 81, 'which': 82, 'its': 83, 'slow': 84, 'found': 85, 'very': 86, 'fauci': 87, 'director': 88, 'national': 89, '“but': 90, 'don’t': 91, 'three': 92, 'number': 93, '50': 94, 'deaths': 95, 'estimate': 96, 'emerged': 97, 'was': 98, 'nine': 99, 'had': 100, 'known': 101, 'factors': 102, 'here’s': 103, 'early': 104, 'determine': 105, 'contained': 106, 'jan': 107, '31': 108, 'one': 109, 'flu”': 110, 'because': 111, '2009': 112, 'rate': 113, 'tests': 114, 'done': 115, 'hospital': 116, 'ward': 117, 'fort': 118, 'riley': 119, 'kan': 120, 'during': 121, 'spanish': 122, 'say': 123, 'spread': 124, 'were': 125, 'out': 126, 'studies': 127, 'california': 128, 'you': 129, 'become': 130, 'circles': 131, 'globe': 132, 'according': 133, 'world’s': 134, 'leading': 135, 'prospect': 136, 'daunting': 137, 'ongoing': 138, 'epidemic': 139, 'on': 140, 'two': 141, 'continents': 142, 'well': 143, 'global': 144, 'consequences': 145, 'despite': 146, 'extraordinary': 147, 'travel': 148, 'restrictions': 149, 'quarantines': 150, 'imposed': 151, 'including': 152, 'states': 153, 'yet': 154, 'lethal': 155, 'new': 156, 'however': 157, 'damage': 158, 'might': 159, 'cause': 160, 'growing': 161, 'consensus': 162, 'readily': 163, 'between': 164, 'humans': 165, 'moving': 166, 'viral': 167, 'cousins': 168, '“it’s': 169, 'almost': 170, 'certainly': 171, 'going': 172, 'anthony': 173, 'institute': 174, 'allergy': 175, 'catastrophic': 176, 'i': 177, 'last': 178, 'weeks': 179, 'lab': 180, 'soared': 181, '17': 182, 'least': 183, '23': 184, '360': 185, 'unlock': 186, 'free': 187, 'articles': 188, 'create': 189, 'account': 190, 'log': 191, 'various': 192, 'epidemiological': 193, 'models': 194, 'real': 195, '100': 196, 'even': 197, 'while': 198, 'expansion': 199, 'rapid': 200, 'measles': 201, 'enormous': 202, 'leap': 203, 'beyond': 204, 'virologists': 205, 'saw': 206, 'vanquished': 207, 'july': 208, '2003': 209, 'after': 210, 'months': 211, '8': 212, '098': 213, 'circulating': 214, 'since': 215, '2012': 216, '500': 217, 'bad': 218, 'outbreak': 219, 'get': 220, 'here': 221, '6': 222, 'key': 223, 'research': 224, 'says': 225, 'behaves': 226, 'biggest': 227, 'around': 228, 'world': 229, 'die': 230, '10': 231, 'those': 232, 'got': 233, 'kills': 234, '“spanish': 235, '5': 236, 'victims': 237, 'infected': 238, 'medical': 239, 'care': 240, 'cruder': 241, 'then': 242, '20': 243, 'million': 244, 'died': 245, 'contrast': 246, 'h1n1': 247, '“swine': 248, '285': 249, 'fewer': 250, 'seasonal': 251, 'normally': 252, 'does': 253, 'relatively': 254, 'low': 255, 'fatality': 256, 'estimated': 257, '02': 258, 'mortality': 259, 'running': 260, 'although': 261, 'drop': 262, 'mild': 263, 'imagepatients': 264, 'patients': 265, 'credit': 266, 'museum': 267, 'health': 268, 'associated': 269, 'press': 270, '“increasingly': 271, 'unlikely': 272, 'thomas': 273, 'r': 274, 'frieden': 275, 'former': 276, 'centers': 277, 'control': 278, 'prevention': 279, 'runs': 280, 'resolve': 281, 'save': 282, 'lives': 283, 'nonprofit': 284, 'devoted': 285, 'fighting': 286, 'epidemics': 287, '“it': 288, 'therefore': 289, 'organisms': 290, 'we': 291, 'still': 292, 'far': 293, 'wide': 294, 'deadly': 295, 'days': 296, '“they': 297, 'talking': 298, 'armageddon': 299, 'mexico': 300, 'first': 301, 'pig': 302, 'farming': 303, 'areas': 304, 'mexico’s': 305, 'veracruz': 306, 'state': 307, 'turned': 308, 'severe': 309, 'stocks': 310, 'sink': 311, 'markets': 312, 'open': 313, 'chinafeb': 314, 'accurate': 315, 'virus’s': 316, 'lethality': 317, 'possible': 318, 'until': 319, 'certain': 320, 'kinds': 321, 'blood': 322, 'see': 323, 'antibodies': 324, 'household': 325, 'learn': 326, 'often': 327, 'infects': 328, 'family': 329, 'members': 330, 'genetic': 331, 'sequencing': 332, 'some': 333, 'strains': 334, 'dangerous': 335, 'others': 336, 'impact': 337, 'updated': 338, 'no': 339, 'anxiety': 340, 'intense': 341, 'airports': 342, '195': 343, 'americans': 344, 'evacuated': 345, 'quarantined': 346, 'person': 347, 'tried': 348, 'flee': 349, 'if': 350, 'live': 351, 'this': 352, 'means': 353, 'president': 354, 'trump': 355, 'temporarily': 356, 'suspended': 357, 'entry': 358, 'into': 359, 'any': 360, 'foreign': 361, 'nationals': 362, 'traveled': 363, 'delta': 364, 'american': 365, 'airlines': 366, 'suspending': 367, 'service': 368, 'read': 369, 'closing': 370, 'borders': 371, 'pathogens': 372, 'never': 373, 'succeeds': 374, 'completely': 375, 'all': 376, 'frontiers': 377, 'somewhat': 378, 'porous': 379, 'nonetheless': 380, 'closings': 381, 'rigorous': 382, 'screening': 383, 'buy': 384, 'time': 385, 'development': 386, 'drug': 387, 'treatments': 388, 'vaccines': 389, 'important': 390, 'unknowns': 391, 'include': 392, 'most': 393, 'risk': 394, 'coughing': 395, 'contaminated': 396, 'surfaces': 397, 'transmit': 398, 'fast': 399, 'mutate': 400, 'fade': 401, 'weather': 402, 'warms': 403}\n"
     ]
    }
   ],
   "source": [
    "tokenizer.fit_on_texts(l)\n",
    "word_index = tokenizer.word_index\n",
    "print(word_index)"
   ]
  },
  {
   "cell_type": "code",
   "execution_count": 47,
   "metadata": {
    "ExecuteTime": {
     "end_time": "2020-02-03T08:43:19.424302Z",
     "start_time": "2020-02-03T08:43:19.405169Z"
    }
   },
   "outputs": [
    {
     "name": "stdout",
     "output_type": "stream",
     "text": [
      "[[1, 18, 14, 53, 35, 28, 2, 29, 36, 5, 11, 15, 8, 1, 5, 37, 3, 1, 54, 55, 56], [1, 2, 11, 15, 57, 38, 22, 9, 57, 74, 16, 1, 4, 29, 75, 28, 4, 58, 76, 1, 77], [39, 78, 40, 59, 12, 1, 14, 2, 79, 30, 2, 80, 10, 12, 41, 11, 15, 23, 30, 2, 8, 1, 81, 2, 60], [1, 18, 14, 2, 53, 9, 42, 61, 82, 2, 62, 63, 31, 42, 83, 84, 43, 4, 44, 39, 16, 85], [86, 86, 63, 4, 7, 2, 5, 17, 11, 15, 24, 32, 64, 33, 87, 88, 3, 1, 89, 3, 4, 54, 55], [90, 13, 7, 17, 91, 59, 24], [6, 1, 92, 1, 93, 3, 65, 19, 45, 35, 10, 94, 6, 28, 5, 9, 31, 66, 6, 46, 76, 30, 16, 20, 9, 31, 95], [9], [38, 22, 6], [23, 96, 8, 1, 93, 3, 19, 2, 66, 22, 9, 8, 2, 40, 25, 25, 8, 3, 26, 22, 7, 2, 38, 67, 68, 43, 4, 44, 97], [68, 43, 98, 6, 53, 27, 99, 69, 19, 20, 65, 44, 45, 20, 23, 30, 16, 20, 69, 10, 47, 19], [12, 13, 1, 14, 21], [67, 10, 12, 1, 81, 4, 1, 8, 13, 48, 7, 49, 17], [70], [1, 80, 29, 56, 32, 2, 12, 37, 71, 1, 13, 43, 72, 10, 50, 3, 34, 7, 4, 44, 29, 10, 3, 92], [1, 73, 72, 69, 10, 47, 50, 3, 83, 57, 23, 7, 79, 37, 71, 4, 98, 41, 5, 94], [75, 1, 62, 63, 15, 3, 72, 10, 66, 31, 26, 4, 11, 46, 50], [1, 27, 19, 3, 1, 18, 14, 45, 20, 10, 47, 50, 8, 2, 36, 5, 25, 9, 21, 4, 9, 19, 21, 85], [6, 11, 6, 1, 26, 15, 3, 73, 1, 18, 14, 2, 60, 41, 42, 61, 39], [6, 11, 6, 1, 26, 15, 3, 73, 1, 18, 14, 2, 60, 41, 42, 61, 39, 89, 3], [7, 2, 8, 1, 51, 49, 17, 24, 32, 64, 11, 88, 3, 1, 27, 55, 4, 34, 29, 5, 11, 5], [2, 36, 8, 7, 13, 25, 26, 4, 58, 78, 23, 91, 59, 12, 22, 7, 13, 17, 24], [6, 1, 3, 1, 26, 15, 10, 6, 24, 64, 87, 32, 8, 51, 97, 6, 6, 90, 7, 5, 40, 17, 8, 24], [25, 6, 47, 70], [38, 96, 3, 1, 13, 40, 17, 3, 49, 17, 5, 12, 37, 71, 16, 5, 12, 7, 4, 5, 48, 21, 9, 31], [18, 14], [6, 1, 52, 33], [70], [30, 16, 20, 99, 65, 19, 6, 1, 52, 33, 23, 95, 2, 46], [1, 34, 35, 18, 5, 16, 20, 25, 5], [6, 67, 27], [45, 1, 52, 33, 27, 34, 16, 5, 28], [77, 4, 21, 35, 1, 52, 33, 4, 28], [9], [5, 62, 54, 56, 32, 21, 4, 74, 84, 1, 82, 13, 27, 1, 3, 4], [58, 34, 2, 46, 48, 22, 21, 9, 36, 5, 1, 51, 12, 1, 51, 49, 4, 48, 7, 13, 68, 1]]\n"
     ]
    }
   ],
   "source": [
    "sequence = tokenizer.texts_to_sequences(l)\n",
    "print(sequence)"
   ]
  },
  {
   "cell_type": "code",
   "execution_count": 50,
   "metadata": {
    "ExecuteTime": {
     "end_time": "2020-02-03T08:49:15.660120Z",
     "start_time": "2020-02-03T08:49:15.642463Z"
    }
   },
   "outputs": [
    {
     "data": {
      "text/plain": [
       "True"
      ]
     },
     "execution_count": 50,
     "metadata": {},
     "output_type": "execute_result"
    }
   ],
   "source": [
    "tokenizer.sequences_to_texts_generator"
   ]
  }
 ],
 "metadata": {
  "kernelspec": {
   "display_name": "Python 3",
   "language": "python",
   "name": "python3"
  },
  "language_info": {
   "codemirror_mode": {
    "name": "ipython",
    "version": 3
   },
   "file_extension": ".py",
   "mimetype": "text/x-python",
   "name": "python",
   "nbconvert_exporter": "python",
   "pygments_lexer": "ipython3",
   "version": "3.7.4"
  },
  "toc": {
   "base_numbering": 1,
   "nav_menu": {},
   "number_sections": true,
   "sideBar": true,
   "skip_h1_title": false,
   "title_cell": "Table of Contents",
   "title_sidebar": "Contents",
   "toc_cell": false,
   "toc_position": {},
   "toc_section_display": true,
   "toc_window_display": false
  },
  "varInspector": {
   "cols": {
    "lenName": 16,
    "lenType": 16,
    "lenVar": 40
   },
   "kernels_config": {
    "python": {
     "delete_cmd_postfix": "",
     "delete_cmd_prefix": "del ",
     "library": "var_list.py",
     "varRefreshCmd": "print(var_dic_list())"
    },
    "r": {
     "delete_cmd_postfix": ") ",
     "delete_cmd_prefix": "rm(",
     "library": "var_list.r",
     "varRefreshCmd": "cat(var_dic_list()) "
    }
   },
   "types_to_exclude": [
    "module",
    "function",
    "builtin_function_or_method",
    "instance",
    "_Feature"
   ],
   "window_display": false
  }
 },
 "nbformat": 4,
 "nbformat_minor": 2
}
