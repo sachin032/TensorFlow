{
 "cells": [
  {
   "cell_type": "code",
   "execution_count": 1,
   "metadata": {
    "ExecuteTime": {
     "end_time": "2020-03-20T06:13:30.110505Z",
     "start_time": "2020-03-20T06:13:30.101240Z"
    }
   },
   "outputs": [
    {
     "data": {
      "text/html": [
       "<style>.container { width:100% !important; }</style>"
      ],
      "text/plain": [
       "<IPython.core.display.HTML object>"
      ]
     },
     "metadata": {},
     "output_type": "display_data"
    }
   ],
   "source": [
    "from IPython.core.display import display, HTML\n",
    "display(HTML(\"<style>.container { width:100% !important; }</style>\"))"
   ]
  },
  {
   "cell_type": "markdown",
   "metadata": {
    "ExecuteTime": {
     "end_time": "2020-03-10T12:42:00.260910Z",
     "start_time": "2020-03-10T12:42:00.254630Z"
    }
   },
   "source": [
    "# Using TensorBoard with Keras Model.fit()"
   ]
  },
  {
   "cell_type": "code",
   "execution_count": 2,
   "metadata": {
    "ExecuteTime": {
     "end_time": "2020-03-20T06:13:33.398999Z",
     "start_time": "2020-03-20T06:13:30.112317Z"
    }
   },
   "outputs": [],
   "source": [
    "%load_ext tensorboard\n",
    "import tensorflow as tf\n",
    "import datetime\n",
    "\n",
    "from tensorflow.keras.layers import Dense,Flatten,Dropout\n",
    "from tensorflow.keras.models import Sequential\n",
    "\n",
    "from tensorflow.keras.optimizers import Adam"
   ]
  },
  {
   "cell_type": "code",
   "execution_count": 3,
   "metadata": {
    "ExecuteTime": {
     "end_time": "2020-03-20T06:13:33.525077Z",
     "start_time": "2020-03-20T06:13:33.400318Z"
    }
   },
   "outputs": [],
   "source": [
    "# Clear any logs from previous runs\n",
    "!rm -rf ./logs/ "
   ]
  },
  {
   "cell_type": "code",
   "execution_count": 4,
   "metadata": {
    "ExecuteTime": {
     "end_time": "2020-03-20T06:13:34.036211Z",
     "start_time": "2020-03-20T06:13:33.530204Z"
    }
   },
   "outputs": [],
   "source": [
    "#Load Dataset\n",
    "mnist = tf.keras.datasets.mnist\n",
    "(x_train, y_train), (x_test, y_test) = mnist.load_data()\n",
    "x_train, x_test = x_train / 255.0, x_test / 255.0"
   ]
  },
  {
   "cell_type": "code",
   "execution_count": 5,
   "metadata": {
    "ExecuteTime": {
     "end_time": "2020-03-20T06:15:00.090276Z",
     "start_time": "2020-03-20T06:13:34.038047Z"
    }
   },
   "outputs": [
    {
     "name": "stdout",
     "output_type": "stream",
     "text": [
      "Model: \"sequential\"\n",
      "_________________________________________________________________\n",
      "Layer (type)                 Output Shape              Param #   \n",
      "=================================================================\n",
      "flatten (Flatten)            (None, 784)               0         \n",
      "_________________________________________________________________\n",
      "dense (Dense)                (None, 512)               401920    \n",
      "_________________________________________________________________\n",
      "dropout (Dropout)            (None, 512)               0         \n",
      "_________________________________________________________________\n",
      "dense_1 (Dense)              (None, 10)                5130      \n",
      "=================================================================\n",
      "Total params: 407,050\n",
      "Trainable params: 407,050\n",
      "Non-trainable params: 0\n",
      "_________________________________________________________________\n",
      "Train on 60000 samples, validate on 10000 samples\n",
      "Epoch 1/10\n",
      "60000/60000 [==============================] - 9s 155us/sample - loss: 0.2212 - accuracy: 0.9339 - val_loss: 0.1089 - val_accuracy: 0.9656\n",
      "Epoch 2/10\n",
      "60000/60000 [==============================] - 8s 142us/sample - loss: 0.0982 - accuracy: 0.9706 - val_loss: 0.0870 - val_accuracy: 0.9725\n",
      "Epoch 3/10\n",
      "60000/60000 [==============================] - 9s 146us/sample - loss: 0.0693 - accuracy: 0.9781 - val_loss: 0.0694 - val_accuracy: 0.9777\n",
      "Epoch 4/10\n",
      "60000/60000 [==============================] - 9s 148us/sample - loss: 0.0542 - accuracy: 0.9824 - val_loss: 0.0698 - val_accuracy: 0.9780\n",
      "Epoch 5/10\n",
      "60000/60000 [==============================] - 9s 147us/sample - loss: 0.0438 - accuracy: 0.9860 - val_loss: 0.0660 - val_accuracy: 0.9811\n",
      "Epoch 6/10\n",
      "60000/60000 [==============================] - 9s 146us/sample - loss: 0.0356 - accuracy: 0.9881 - val_loss: 0.0645 - val_accuracy: 0.9814\n",
      "Epoch 7/10\n",
      "60000/60000 [==============================] - 9s 144us/sample - loss: 0.0331 - accuracy: 0.9888 - val_loss: 0.0581 - val_accuracy: 0.9820\n",
      "Epoch 8/10\n",
      "60000/60000 [==============================] - 8s 137us/sample - loss: 0.0256 - accuracy: 0.9915 - val_loss: 0.0716 - val_accuracy: 0.9801\n",
      "Epoch 9/10\n",
      "60000/60000 [==============================] - 9s 146us/sample - loss: 0.0251 - accuracy: 0.9917 - val_loss: 0.0648 - val_accuracy: 0.9832\n",
      "Epoch 10/10\n",
      "60000/60000 [==============================] - 7s 115us/sample - loss: 0.0221 - accuracy: 0.9927 - val_loss: 0.0684 - val_accuracy: 0.9819\n"
     ]
    },
    {
     "data": {
      "text/plain": [
       "<tensorflow.python.keras.callbacks.History at 0x7fe6e6966790>"
      ]
     },
     "execution_count": 5,
     "metadata": {},
     "output_type": "execute_result"
    }
   ],
   "source": [
    "model = Sequential()\n",
    "model.add(Flatten(input_shape=(28, 28)))\n",
    "model.add(Dense(512, activation='relu'))\n",
    "model.add(Dropout(0.2))\n",
    "model.add(Dense(10, activation='softmax'))\n",
    "\n",
    "adam = Adam(learning_rate=0.001, \n",
    "                                beta_1=0.9, \n",
    "                                beta_2=0.999, \n",
    "                                epsilon=1e-07, \n",
    "                                amsgrad=False,\n",
    "                                name='Adam')\n",
    "\n",
    "\n",
    "model.summary()\n",
    "\n",
    "model.compile(optimizer= adam,\n",
    "              loss='sparse_categorical_crossentropy',\n",
    "              metrics=['accuracy'])\n",
    "\n",
    "log_dir = \"logs/fit/\" + datetime.datetime.now().strftime(\"%Y%m%d-%H%M%S\")\n",
    "\n",
    "tensorboard_callback = tf.keras.callbacks.TensorBoard(log_dir=log_dir, histogram_freq=1)\n",
    "\n",
    "model.fit(x=x_train, \n",
    "          y=y_train, \n",
    "          epochs=10, \n",
    "          validation_data=(x_test, y_test), \n",
    "          callbacks=[tensorboard_callback])"
   ]
  },
  {
   "cell_type": "code",
   "execution_count": 6,
   "metadata": {
    "ExecuteTime": {
     "end_time": "2020-03-20T06:15:02.614822Z",
     "start_time": "2020-03-20T06:15:00.092599Z"
    },
    "scrolled": false
   },
   "outputs": [
    {
     "data": {
      "text/html": [
       "\n",
       "      <iframe id=\"tensorboard-frame-bfebcb2d62dedc6d\" width=\"100%\" height=\"800\" frameborder=\"0\">\n",
       "      </iframe>\n",
       "      <script>\n",
       "        (function() {\n",
       "          const frame = document.getElementById(\"tensorboard-frame-bfebcb2d62dedc6d\");\n",
       "          const url = new URL(\"/\", window.location);\n",
       "          url.port = 6006;\n",
       "          frame.src = url;\n",
       "        })();\n",
       "      </script>\n",
       "  "
      ],
      "text/plain": [
       "<IPython.core.display.HTML object>"
      ]
     },
     "metadata": {},
     "output_type": "display_data"
    }
   ],
   "source": [
    "%tensorboard --logdir logs/fit"
   ]
  },
  {
   "cell_type": "code",
   "execution_count": 7,
   "metadata": {
    "ExecuteTime": {
     "end_time": "2020-03-20T06:16:34.331468Z",
     "start_time": "2020-03-20T06:15:02.618284Z"
    }
   },
   "outputs": [
    {
     "name": "stdout",
     "output_type": "stream",
     "text": [
      "Model: \"sequential_1\"\n",
      "_________________________________________________________________\n",
      "Layer (type)                 Output Shape              Param #   \n",
      "=================================================================\n",
      "flatten_1 (Flatten)          (None, 784)               0         \n",
      "_________________________________________________________________\n",
      "dense_2 (Dense)              (None, 512)               401920    \n",
      "_________________________________________________________________\n",
      "dropout_1 (Dropout)          (None, 512)               0         \n",
      "_________________________________________________________________\n",
      "dense_3 (Dense)              (None, 10)                5130      \n",
      "=================================================================\n",
      "Total params: 407,050\n",
      "Trainable params: 407,050\n",
      "Non-trainable params: 0\n",
      "_________________________________________________________________\n",
      "Train on 60000 samples, validate on 10000 samples\n",
      "Epoch 1/10\n",
      "60000/60000 [==============================] - 11s 187us/sample - loss: 0.1821 - accuracy: 0.9444 - val_loss: 0.1018 - val_accuracy: 0.9676\n",
      "Epoch 2/10\n",
      "60000/60000 [==============================] - 9s 144us/sample - loss: 0.0855 - accuracy: 0.9735 - val_loss: 0.0747 - val_accuracy: 0.9768\n",
      "Epoch 3/10\n",
      "60000/60000 [==============================] - 10s 159us/sample - loss: 0.0629 - accuracy: 0.9803 - val_loss: 0.0662 - val_accuracy: 0.9795\n",
      "Epoch 4/10\n",
      "60000/60000 [==============================] - 9s 144us/sample - loss: 0.0485 - accuracy: 0.9844 - val_loss: 0.0625 - val_accuracy: 0.9819\n",
      "Epoch 5/10\n",
      "60000/60000 [==============================] - 13s 210us/sample - loss: 0.0395 - accuracy: 0.9872 - val_loss: 0.0650 - val_accuracy: 0.9815\n",
      "Epoch 6/10\n",
      "60000/60000 [==============================] - 8s 138us/sample - loss: 0.0348 - accuracy: 0.9885 - val_loss: 0.0634 - val_accuracy: 0.9810\n",
      "Epoch 7/10\n",
      "60000/60000 [==============================] - 9s 146us/sample - loss: 0.0276 - accuracy: 0.9908 - val_loss: 0.0681 - val_accuracy: 0.9809\n",
      "Epoch 8/10\n",
      "60000/60000 [==============================] - 8s 136us/sample - loss: 0.0246 - accuracy: 0.9914 - val_loss: 0.0678 - val_accuracy: 0.9830\n",
      "Epoch 9/10\n",
      "60000/60000 [==============================] - 8s 139us/sample - loss: 0.0224 - accuracy: 0.9924 - val_loss: 0.0644 - val_accuracy: 0.9834\n",
      "Epoch 10/10\n",
      "60000/60000 [==============================] - 7s 119us/sample - loss: 0.0219 - accuracy: 0.9930 - val_loss: 0.0714 - val_accuracy: 0.9829\n"
     ]
    },
    {
     "data": {
      "text/plain": [
       "<tensorflow.python.keras.callbacks.History at 0x7fe6ac7a5290>"
      ]
     },
     "execution_count": 7,
     "metadata": {},
     "output_type": "execute_result"
    }
   ],
   "source": [
    "# Clear any logs from previous runs\n",
    "!rm -rf ./logs/ \n",
    "\n",
    "def create_model():\n",
    "    return tf.keras.models.Sequential([\n",
    "        tf.keras.layers.Flatten(input_shape=(28, 28)),\n",
    "        tf.keras.layers.Dense(512, activation='relu'),\n",
    "        tf.keras.layers.Dropout(0.2),\n",
    "        tf.keras.layers.Dense(10, activation='softmax')\n",
    "    ])\n",
    "\n",
    "model = create_model()\n",
    "\n",
    "model.summary()\n",
    "\n",
    "model.compile(optimizer= adam,\n",
    "              loss='sparse_categorical_crossentropy',\n",
    "              metrics=['accuracy'])\n",
    "\n",
    "log_dir = \"logs/fit/\" + datetime.datetime.now().strftime(\"%Y%m%d-%H%M%S\")\n",
    "\n",
    "tensorboard_callback = tf.keras.callbacks.TensorBoard(log_dir=log_dir, histogram_freq=1)\n",
    "\n",
    "model.fit(x=x_train, \n",
    "          y=y_train, \n",
    "          epochs=10, \n",
    "          validation_data=(x_test, y_test), \n",
    "          callbacks=[tensorboard_callback])"
   ]
  },
  {
   "cell_type": "code",
   "execution_count": 8,
   "metadata": {
    "ExecuteTime": {
     "end_time": "2020-03-20T06:16:34.347035Z",
     "start_time": "2020-03-20T06:16:34.333607Z"
    },
    "scrolled": false
   },
   "outputs": [
    {
     "data": {
      "text/plain": [
       "Reusing TensorBoard on port 6006 (pid 23968), started 0:01:32 ago. (Use '!kill 23968' to kill it.)"
      ]
     },
     "metadata": {},
     "output_type": "display_data"
    },
    {
     "data": {
      "text/html": [
       "\n",
       "      <iframe id=\"tensorboard-frame-586e663b25766f81\" width=\"100%\" height=\"800\" frameborder=\"0\">\n",
       "      </iframe>\n",
       "      <script>\n",
       "        (function() {\n",
       "          const frame = document.getElementById(\"tensorboard-frame-586e663b25766f81\");\n",
       "          const url = new URL(\"/\", window.location);\n",
       "          url.port = 6006;\n",
       "          frame.src = url;\n",
       "        })();\n",
       "      </script>\n",
       "  "
      ],
      "text/plain": [
       "<IPython.core.display.HTML object>"
      ]
     },
     "metadata": {},
     "output_type": "display_data"
    }
   ],
   "source": [
    "%tensorboard --logdir logs/fit"
   ]
  }
 ],
 "metadata": {
  "kernelspec": {
   "display_name": "Python 3",
   "language": "python",
   "name": "python3"
  },
  "language_info": {
   "codemirror_mode": {
    "name": "ipython",
    "version": 3
   },
   "file_extension": ".py",
   "mimetype": "text/x-python",
   "name": "python",
   "nbconvert_exporter": "python",
   "pygments_lexer": "ipython3",
   "version": "3.7.4"
  },
  "toc": {
   "base_numbering": 1,
   "nav_menu": {},
   "number_sections": true,
   "sideBar": true,
   "skip_h1_title": false,
   "title_cell": "Table of Contents",
   "title_sidebar": "Contents",
   "toc_cell": false,
   "toc_position": {},
   "toc_section_display": true,
   "toc_window_display": false
  },
  "varInspector": {
   "cols": {
    "lenName": 16,
    "lenType": 16,
    "lenVar": 40
   },
   "kernels_config": {
    "python": {
     "delete_cmd_postfix": "",
     "delete_cmd_prefix": "del ",
     "library": "var_list.py",
     "varRefreshCmd": "print(var_dic_list())"
    },
    "r": {
     "delete_cmd_postfix": ") ",
     "delete_cmd_prefix": "rm(",
     "library": "var_list.r",
     "varRefreshCmd": "cat(var_dic_list()) "
    }
   },
   "types_to_exclude": [
    "module",
    "function",
    "builtin_function_or_method",
    "instance",
    "_Feature"
   ],
   "window_display": false
  }
 },
 "nbformat": 4,
 "nbformat_minor": 2
}
